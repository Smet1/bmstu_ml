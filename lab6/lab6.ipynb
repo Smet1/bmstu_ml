{
 "cells": [
  {
   "cell_type": "markdown",
   "metadata": {
    "colab_type": "text",
    "id": "BA65PDdw4-TS"
   },
   "source": [
    "Задание:\n",
    "1. Выберите набор данных (датасет) для решения задачи классификации или регресии.\n",
    "2. В случае необходимости проведите удаление или заполнение пропусков и кодирование категориальных признаков.\n",
    "3. С использованием метода train_test_split разделите выборку на обучающую и тестовую.\n",
    "4. Обучите две ансамблевые модели. Оцените качество моделей с помощью одной из подходящих для задачи метрик. Сравните качество полученных моделей.\n",
    "5. Произведите для каждой модели подбор значений одного гиперпараметра. В зависимости от используемой библиотеки можно применять функцию GridSearchCV, использовать перебор параметров в цикле, или использовать другие методы.\n",
    "6. Повторите пункт 4 для найденных оптимальных значений гиперпараметров. Сравните качество полученных моделей с качеством моделей, полученных в пункте 4."
   ]
  },
  {
   "cell_type": "code",
   "execution_count": 0,
   "metadata": {
    "colab": {},
    "colab_type": "code",
    "id": "ZsMMaoUUdt0c"
   },
   "outputs": [],
   "source": [
    "import pandas as pd\n",
    "import numpy as np\n",
    "import seaborn as sns\n",
    "from sklearn.impute import SimpleImputer\n",
    "from sklearn.preprocessing import LabelEncoder, OneHotEncoder\n",
    "from sklearn.preprocessing import MinMaxScaler, StandardScaler, Normalizer\n",
    "\n",
    "%matplotlib inline \n",
    "sns.set(style=\"ticks\")"
   ]
  },
  {
   "cell_type": "code",
   "execution_count": 0,
   "metadata": {
    "colab": {},
    "colab_type": "code",
    "id": "NuK0ccaYd0-9"
   },
   "outputs": [],
   "source": [
    "url = 'https://raw.githubusercontent.com/Smet1/bmstu_ml/master/lab4/data.csv'\n",
    "df = pd.read_csv(url, error_bad_lines=False)"
   ]
  },
  {
   "cell_type": "code",
   "execution_count": 218,
   "metadata": {
    "colab": {
     "base_uri": "https://localhost:8080/",
     "height": 204
    },
    "colab_type": "code",
    "id": "CO5lgYsReV9p",
    "outputId": "47b7be9d-111a-4261-a08c-fd22ad035c7a"
   },
   "outputs": [
    {
     "data": {
      "text/html": [
       "<div>\n",
       "<style scoped>\n",
       "    .dataframe tbody tr th:only-of-type {\n",
       "        vertical-align: middle;\n",
       "    }\n",
       "\n",
       "    .dataframe tbody tr th {\n",
       "        vertical-align: top;\n",
       "    }\n",
       "\n",
       "    .dataframe thead th {\n",
       "        text-align: right;\n",
       "    }\n",
       "</style>\n",
       "<table border=\"1\" class=\"dataframe\">\n",
       "  <thead>\n",
       "    <tr style=\"text-align: right;\">\n",
       "      <th></th>\n",
       "      <th>date</th>\n",
       "      <th>price</th>\n",
       "      <th>bedrooms</th>\n",
       "      <th>bathrooms</th>\n",
       "      <th>sqft_living</th>\n",
       "      <th>sqft_lot</th>\n",
       "      <th>floors</th>\n",
       "      <th>waterfront</th>\n",
       "      <th>view</th>\n",
       "      <th>condition</th>\n",
       "      <th>sqft_above</th>\n",
       "      <th>sqft_basement</th>\n",
       "      <th>yr_built</th>\n",
       "      <th>yr_renovated</th>\n",
       "      <th>street</th>\n",
       "      <th>city</th>\n",
       "      <th>statezip</th>\n",
       "      <th>country</th>\n",
       "    </tr>\n",
       "  </thead>\n",
       "  <tbody>\n",
       "    <tr>\n",
       "      <th>0</th>\n",
       "      <td>2014-05-02 00:00:00</td>\n",
       "      <td>313000.0</td>\n",
       "      <td>3.0</td>\n",
       "      <td>1.50</td>\n",
       "      <td>1340</td>\n",
       "      <td>7912</td>\n",
       "      <td>1.5</td>\n",
       "      <td>0</td>\n",
       "      <td>0</td>\n",
       "      <td>3</td>\n",
       "      <td>1340</td>\n",
       "      <td>0</td>\n",
       "      <td>1955</td>\n",
       "      <td>2005</td>\n",
       "      <td>18810 Densmore Ave N</td>\n",
       "      <td>Shoreline</td>\n",
       "      <td>WA 98133</td>\n",
       "      <td>USA</td>\n",
       "    </tr>\n",
       "    <tr>\n",
       "      <th>1</th>\n",
       "      <td>2014-05-02 00:00:00</td>\n",
       "      <td>2384000.0</td>\n",
       "      <td>5.0</td>\n",
       "      <td>2.50</td>\n",
       "      <td>3650</td>\n",
       "      <td>9050</td>\n",
       "      <td>2.0</td>\n",
       "      <td>0</td>\n",
       "      <td>4</td>\n",
       "      <td>5</td>\n",
       "      <td>3370</td>\n",
       "      <td>280</td>\n",
       "      <td>1921</td>\n",
       "      <td>0</td>\n",
       "      <td>709 W Blaine St</td>\n",
       "      <td>Seattle</td>\n",
       "      <td>WA 98119</td>\n",
       "      <td>USA</td>\n",
       "    </tr>\n",
       "    <tr>\n",
       "      <th>2</th>\n",
       "      <td>2014-05-02 00:00:00</td>\n",
       "      <td>342000.0</td>\n",
       "      <td>3.0</td>\n",
       "      <td>2.00</td>\n",
       "      <td>1930</td>\n",
       "      <td>11947</td>\n",
       "      <td>1.0</td>\n",
       "      <td>0</td>\n",
       "      <td>0</td>\n",
       "      <td>4</td>\n",
       "      <td>1930</td>\n",
       "      <td>0</td>\n",
       "      <td>1966</td>\n",
       "      <td>0</td>\n",
       "      <td>26206-26214 143rd Ave SE</td>\n",
       "      <td>Kent</td>\n",
       "      <td>WA 98042</td>\n",
       "      <td>USA</td>\n",
       "    </tr>\n",
       "    <tr>\n",
       "      <th>3</th>\n",
       "      <td>2014-05-02 00:00:00</td>\n",
       "      <td>420000.0</td>\n",
       "      <td>3.0</td>\n",
       "      <td>2.25</td>\n",
       "      <td>2000</td>\n",
       "      <td>8030</td>\n",
       "      <td>1.0</td>\n",
       "      <td>0</td>\n",
       "      <td>0</td>\n",
       "      <td>4</td>\n",
       "      <td>1000</td>\n",
       "      <td>1000</td>\n",
       "      <td>1963</td>\n",
       "      <td>0</td>\n",
       "      <td>857 170th Pl NE</td>\n",
       "      <td>Bellevue</td>\n",
       "      <td>WA 98008</td>\n",
       "      <td>USA</td>\n",
       "    </tr>\n",
       "    <tr>\n",
       "      <th>4</th>\n",
       "      <td>2014-05-02 00:00:00</td>\n",
       "      <td>550000.0</td>\n",
       "      <td>4.0</td>\n",
       "      <td>2.50</td>\n",
       "      <td>1940</td>\n",
       "      <td>10500</td>\n",
       "      <td>1.0</td>\n",
       "      <td>0</td>\n",
       "      <td>0</td>\n",
       "      <td>4</td>\n",
       "      <td>1140</td>\n",
       "      <td>800</td>\n",
       "      <td>1976</td>\n",
       "      <td>1992</td>\n",
       "      <td>9105 170th Ave NE</td>\n",
       "      <td>Redmond</td>\n",
       "      <td>WA 98052</td>\n",
       "      <td>USA</td>\n",
       "    </tr>\n",
       "  </tbody>\n",
       "</table>\n",
       "</div>"
      ],
      "text/plain": [
       "                  date      price  bedrooms  ...       city  statezip  country\n",
       "0  2014-05-02 00:00:00   313000.0       3.0  ...  Shoreline  WA 98133      USA\n",
       "1  2014-05-02 00:00:00  2384000.0       5.0  ...    Seattle  WA 98119      USA\n",
       "2  2014-05-02 00:00:00   342000.0       3.0  ...       Kent  WA 98042      USA\n",
       "3  2014-05-02 00:00:00   420000.0       3.0  ...   Bellevue  WA 98008      USA\n",
       "4  2014-05-02 00:00:00   550000.0       4.0  ...    Redmond  WA 98052      USA\n",
       "\n",
       "[5 rows x 18 columns]"
      ]
     },
     "execution_count": 218,
     "metadata": {
      "tags": []
     },
     "output_type": "execute_result"
    }
   ],
   "source": [
    "df.head()"
   ]
  },
  {
   "cell_type": "code",
   "execution_count": 219,
   "metadata": {
    "colab": {
     "base_uri": "https://localhost:8080/",
     "height": 34
    },
    "colab_type": "code",
    "id": "_D7rJPfKehdU",
    "outputId": "a47f55c3-53d1-479a-8994-bab6583d9236"
   },
   "outputs": [
    {
     "name": "stdout",
     "output_type": "stream",
     "text": [
      "Данный датасет содержит 4600 строк и 18 столбца.\n"
     ]
    }
   ],
   "source": [
    "row_number = df.shape[0]\n",
    "column_number = df.shape[1]\n",
    "\n",
    "print('Данный датасет содержит {} строк и {} столбца.'.format(row_number, column_number))"
   ]
  },
  {
   "cell_type": "markdown",
   "metadata": {
    "colab_type": "text",
    "id": "HeCFoZiDeqEv"
   },
   "source": [
    "## Обработка пропусков в данных"
   ]
  },
  {
   "cell_type": "code",
   "execution_count": 0,
   "metadata": {
    "colab": {},
    "colab_type": "code",
    "id": "VJxrNRKJesl8"
   },
   "outputs": [],
   "source": [
    "for col in df.columns:\n",
    "    null_count = df[df[col].isnull()].shape[0]\n",
    "    if null_count > 0:\n",
    "        column_type = df[col].dtype\n",
    "        percent = round((null_count / row_number) * 100, 3)\n",
    "        print('{} - {} - {}. Тип - {}'.format(col, null_count, percent, column_type))"
   ]
  },
  {
   "cell_type": "code",
   "execution_count": 221,
   "metadata": {
    "colab": {
     "base_uri": "https://localhost:8080/",
     "height": 323
    },
    "colab_type": "code",
    "id": "cyGOhEl05-mb",
    "outputId": "4c405eff-fc91-400f-972a-b4a8ddcc9148"
   },
   "outputs": [
    {
     "name": "stdout",
     "output_type": "stream",
     "text": [
      "date - тип: object\n",
      "price - тип: float64\n",
      "bedrooms - тип: float64\n",
      "bathrooms - тип: float64\n",
      "sqft_living - тип: int64\n",
      "sqft_lot - тип: int64\n",
      "floors - тип: float64\n",
      "waterfront - тип: int64\n",
      "view - тип: int64\n",
      "condition - тип: int64\n",
      "sqft_above - тип: int64\n",
      "sqft_basement - тип: int64\n",
      "yr_built - тип: int64\n",
      "yr_renovated - тип: int64\n",
      "street - тип: object\n",
      "city - тип: object\n",
      "statezip - тип: object\n",
      "country - тип: object\n"
     ]
    }
   ],
   "source": [
    "for col in df.columns:\n",
    "    column_type = df[col].dtype\n",
    "    print('{} - тип: {}'.format(col, column_type))"
   ]
  },
  {
   "cell_type": "markdown",
   "metadata": {
    "colab_type": "text",
    "id": "yZcd3wjy8VFd"
   },
   "source": [
    "Удаление или заполнение пропусков, не требуется, так как в датасете отсутствуют пустые значения"
   ]
  },
  {
   "cell_type": "markdown",
   "metadata": {
    "colab_type": "text",
    "id": "3-cwtJzH6SVm"
   },
   "source": [
    "## Кодирование категориальных признаков"
   ]
  },
  {
   "cell_type": "code",
   "execution_count": 222,
   "metadata": {
    "colab": {
     "base_uri": "https://localhost:8080/",
     "height": 102
    },
    "colab_type": "code",
    "id": "gmeU3Krn6WT3",
    "outputId": "c519f213-3b44-436d-b608-629ccd263abb"
   },
   "outputs": [
    {
     "name": "stdout",
     "output_type": "stream",
     "text": [
      "date\n",
      "street\n",
      "city\n",
      "statezip\n",
      "country\n"
     ]
    }
   ],
   "source": [
    "for col in df.columns:\n",
    "    column_type = df[col].dtype\n",
    "    if column_type == 'object':\n",
    "        print(col)"
   ]
  },
  {
   "cell_type": "code",
   "execution_count": 223,
   "metadata": {
    "colab": {
     "base_uri": "https://localhost:8080/",
     "height": 102
    },
    "colab_type": "code",
    "id": "9PlQI13s6i9s",
    "outputId": "de6a96e1-0ee9-4363-9aea-f64a6cab8eb7"
   },
   "outputs": [
    {
     "name": "stdout",
     "output_type": "stream",
     "text": [
      "70\n",
      "4525\n",
      "44\n",
      "77\n",
      "1\n"
     ]
    }
   ],
   "source": [
    "print(len(df['date'].unique()))\n",
    "print(len(df['street'].unique()))\n",
    "print(len(df['city'].unique()))\n",
    "print(len(df['statezip'].unique()))\n",
    "print(len(df['country'].unique()))"
   ]
  },
  {
   "cell_type": "code",
   "execution_count": 0,
   "metadata": {
    "colab": {},
    "colab_type": "code",
    "id": "FkCByUp-6_wk"
   },
   "outputs": [],
   "source": [
    "# кодируем\n",
    "leDate = LabelEncoder()\n",
    "df['date'] = leDate.fit_transform(df['date'])\n",
    "\n",
    "leStreet = LabelEncoder()\n",
    "df['street'] = leStreet.fit_transform(df['street'])\n",
    "\n",
    "leCity = LabelEncoder()\n",
    "df['city'] = leCity.fit_transform(df['city'])\n",
    "\n",
    "leStatezip = LabelEncoder()\n",
    "df['statezip'] = leStatezip.fit_transform(df['statezip'])\n",
    "\n",
    "leCountry = LabelEncoder()\n",
    "df['country'] = leCountry.fit_transform(df['country'])"
   ]
  },
  {
   "cell_type": "code",
   "execution_count": 0,
   "metadata": {
    "colab": {},
    "colab_type": "code",
    "id": "0gMJLQN28Dqq"
   },
   "outputs": [],
   "source": [
    "# проверяем остались ли признаки\n",
    "for col in df.columns:\n",
    "    column_type = df[col].dtype\n",
    "    if column_type == 'object':\n",
    "        print(col)"
   ]
  },
  {
   "cell_type": "code",
   "execution_count": 0,
   "metadata": {
    "colab": {},
    "colab_type": "code",
    "id": "N8eG8V_JEC3M"
   },
   "outputs": [],
   "source": [
    "from sklearn.model_selection import train_test_split\n",
    "\n",
    "df_x = df.loc[:, df.columns != 'price']\n",
    "df_y = df['price']\n",
    "\n",
    "train_x_df, test_x_df, train_y_df, test_y_df = train_test_split(df_x, df_y, test_size=0.3, random_state=1)"
   ]
  },
  {
   "cell_type": "code",
   "execution_count": 227,
   "metadata": {
    "colab": {
     "base_uri": "https://localhost:8080/",
     "height": 34
    },
    "colab_type": "code",
    "id": "fYVl45PgEFO0",
    "outputId": "c4614027-523e-4eca-9328-ff5b1d5ea10a"
   },
   "outputs": [
    {
     "name": "stdout",
     "output_type": "stream",
     "text": [
      "Тренировочный датасет содержит 3220 строки и 17 столбцов.\n"
     ]
    }
   ],
   "source": [
    "row_number_train = train_x_df.shape[0]\n",
    "column_number_train = train_x_df.shape[1]\n",
    "\n",
    "print('Тренировочный датасет содержит {} строки и {} столбцов.'.format(row_number_train, column_number_train))"
   ]
  },
  {
   "cell_type": "code",
   "execution_count": 228,
   "metadata": {
    "colab": {
     "base_uri": "https://localhost:8080/",
     "height": 34
    },
    "colab_type": "code",
    "id": "bO2lJMexEHa2",
    "outputId": "012608d2-a4bd-414c-a3ae-a11f5b428839"
   },
   "outputs": [
    {
     "name": "stdout",
     "output_type": "stream",
     "text": [
      "Тестовый датасет содержит 1380 строки и 17 столбцов.\n"
     ]
    }
   ],
   "source": [
    "row_number_test = test_x_df.shape[0]\n",
    "column_number_test = test_x_df.shape[1]\n",
    "\n",
    "print('Тестовый датасет содержит {} строки и {} столбцов.'.format(row_number_test, column_number_test))"
   ]
  },
  {
   "cell_type": "code",
   "execution_count": 0,
   "metadata": {
    "colab": {},
    "colab_type": "code",
    "id": "7HJdZ1FVFHp2"
   },
   "outputs": [],
   "source": [
    "from sklearn.neighbors import KNeighborsRegressor\n",
    "from sklearn.metrics import mean_absolute_error\n",
    "from sklearn.metrics import median_absolute_error, r2_score"
   ]
  },
  {
   "cell_type": "code",
   "execution_count": 0,
   "metadata": {
    "colab": {},
    "colab_type": "code",
    "id": "QubElBWoEl4j"
   },
   "outputs": [],
   "source": [
    "# функция, которая считает метрики построенной модели\n",
    "def test_model(model):\n",
    "    print('mean_absolute_error: {}'.format(round(mean_absolute_error(test_y_df, model.predict(test_x_df)), 2)))\n",
    "    print('median_absolute_error: {}'.format(round(median_absolute_error(test_y_df, model.predict(test_x_df)), 2)))\n",
    "    print('r2_score: {}'.format(round(r2_score(test_y_df, model.predict(test_x_df)), 2)))"
   ]
  },
  {
   "cell_type": "markdown",
   "metadata": {
    "colab_type": "text",
    "id": "YCMCPz41Ekd7"
   },
   "source": [
    "## Обучение моделей"
   ]
  },
  {
   "cell_type": "markdown",
   "metadata": {
    "colab_type": "text",
    "id": "WZZsUUw1E0cw"
   },
   "source": [
    "### Случайный лес "
   ]
  },
  {
   "cell_type": "code",
   "execution_count": 231,
   "metadata": {
    "colab": {
     "base_uri": "https://localhost:8080/",
     "height": 136
    },
    "colab_type": "code",
    "id": "4hMPp4cCE24l",
    "outputId": "1394539a-2562-4a90-e07d-fd7821c445a0"
   },
   "outputs": [
    {
     "data": {
      "text/plain": [
       "RandomForestRegressor(bootstrap=True, ccp_alpha=0.0, criterion='mse',\n",
       "                      max_depth=None, max_features='auto', max_leaf_nodes=None,\n",
       "                      max_samples=None, min_impurity_decrease=0.0,\n",
       "                      min_impurity_split=None, min_samples_leaf=1,\n",
       "                      min_samples_split=2, min_weight_fraction_leaf=0.0,\n",
       "                      n_estimators=80, n_jobs=None, oob_score=False,\n",
       "                      random_state=None, verbose=0, warm_start=False)"
      ]
     },
     "execution_count": 231,
     "metadata": {
      "tags": []
     },
     "output_type": "execute_result"
    }
   ],
   "source": [
    "from sklearn.ensemble import RandomForestRegressor\n",
    "\n",
    "ran_80 = RandomForestRegressor(n_estimators=80)\n",
    "ran_80.fit(train_x_df, train_y_df)"
   ]
  },
  {
   "cell_type": "code",
   "execution_count": 232,
   "metadata": {
    "colab": {
     "base_uri": "https://localhost:8080/",
     "height": 68
    },
    "colab_type": "code",
    "id": "E5WQsXs2FEi_",
    "outputId": "40f5178b-272a-4b21-9d21-b92229f1ef45"
   },
   "outputs": [
    {
     "name": "stdout",
     "output_type": "stream",
     "text": [
      "mean_absolute_error: 141408.66\n",
      "median_absolute_error: 72183.5\n",
      "r2_score: 0.26\n"
     ]
    }
   ],
   "source": [
    "test_model(ran_80)"
   ]
  },
  {
   "cell_type": "markdown",
   "metadata": {
    "colab_type": "text",
    "id": "nzLm0JIIGjYe"
   },
   "source": [
    "### Градиентный бустинг"
   ]
  },
  {
   "cell_type": "code",
   "execution_count": 233,
   "metadata": {
    "colab": {
     "base_uri": "https://localhost:8080/",
     "height": 170
    },
    "colab_type": "code",
    "id": "qGaJy9uoGljo",
    "outputId": "113b3847-832c-4496-cfa9-99b5269d1fac"
   },
   "outputs": [
    {
     "data": {
      "text/plain": [
       "GradientBoostingRegressor(alpha=0.9, ccp_alpha=0.0, criterion='friedman_mse',\n",
       "                          init=None, learning_rate=0.1, loss='ls', max_depth=3,\n",
       "                          max_features=None, max_leaf_nodes=None,\n",
       "                          min_impurity_decrease=0.0, min_impurity_split=None,\n",
       "                          min_samples_leaf=1, min_samples_split=2,\n",
       "                          min_weight_fraction_leaf=0.0, n_estimators=80,\n",
       "                          n_iter_no_change=None, presort='deprecated',\n",
       "                          random_state=None, subsample=1.0, tol=0.0001,\n",
       "                          validation_fraction=0.1, verbose=0, warm_start=False)"
      ]
     },
     "execution_count": 233,
     "metadata": {
      "tags": []
     },
     "output_type": "execute_result"
    }
   ],
   "source": [
    "from sklearn.ensemble import GradientBoostingRegressor\n",
    "\n",
    "gr_80 = GradientBoostingRegressor(n_estimators=80)\n",
    "gr_80.fit(train_x_df, train_y_df)"
   ]
  },
  {
   "cell_type": "code",
   "execution_count": 234,
   "metadata": {
    "colab": {
     "base_uri": "https://localhost:8080/",
     "height": 68
    },
    "colab_type": "code",
    "id": "c9kVOQszGtro",
    "outputId": "ad449eff-193f-4b04-bfaa-2fd754b09350"
   },
   "outputs": [
    {
     "name": "stdout",
     "output_type": "stream",
     "text": [
      "mean_absolute_error: 150195.9\n",
      "median_absolute_error: 90637.71\n",
      "r2_score: -0.17\n"
     ]
    }
   ],
   "source": [
    "test_model(gr_80)"
   ]
  },
  {
   "cell_type": "markdown",
   "metadata": {
    "colab_type": "text",
    "id": "0eLA20tuG21j"
   },
   "source": [
    "## Подбор гиперпараметра n"
   ]
  },
  {
   "cell_type": "markdown",
   "metadata": {
    "colab_type": "text",
    "id": "pZkokBMGG4hq"
   },
   "source": [
    "### Случайный лес"
   ]
  },
  {
   "cell_type": "code",
   "execution_count": 235,
   "metadata": {
    "colab": {
     "base_uri": "https://localhost:8080/",
     "height": 34
    },
    "colab_type": "code",
    "id": "Pgz0FzN5HAFd",
    "outputId": "25fcba18-fc9f-4d6b-c496-819769ed4e9f"
   },
   "outputs": [
    {
     "data": {
      "text/plain": [
       "[{'n_estimators': array([ 50,  60,  70,  80,  90, 100, 110, 120, 130, 140, 150, 160])}]"
      ]
     },
     "execution_count": 235,
     "metadata": {
      "tags": []
     },
     "output_type": "execute_result"
    }
   ],
   "source": [
    "param_range = np.arange(50, 170, 10)\n",
    "tuned_parameters = [{'n_estimators': param_range}]\n",
    "tuned_parameters"
   ]
  },
  {
   "cell_type": "code",
   "execution_count": 236,
   "metadata": {
    "colab": {
     "base_uri": "https://localhost:8080/",
     "height": 340
    },
    "colab_type": "code",
    "id": "r94nAulLHFHu",
    "outputId": "cf2693a7-3c72-4ada-d4e7-d3cc4ef2a43e"
   },
   "outputs": [
    {
     "data": {
      "text/plain": [
       "GridSearchCV(cv=ShuffleSplit(n_splits=10, random_state=None, test_size=None, train_size=None),\n",
       "             error_score=nan,\n",
       "             estimator=RandomForestRegressor(bootstrap=True, ccp_alpha=0.0,\n",
       "                                             criterion='mse', max_depth=None,\n",
       "                                             max_features='auto',\n",
       "                                             max_leaf_nodes=None,\n",
       "                                             max_samples=None,\n",
       "                                             min_impurity_decrease=0.0,\n",
       "                                             min_impurity_split=None,\n",
       "                                             min_samples_leaf=1,\n",
       "                                             min_samples_split=2,\n",
       "                                             min_weight_fraction_leaf=0.0,\n",
       "                                             n_estimators=100, n_jobs=None,\n",
       "                                             oob_score=False, random_state=None,\n",
       "                                             verbose=0, warm_start=False),\n",
       "             iid='deprecated', n_jobs=-1,\n",
       "             param_grid=[{'n_estimators': array([ 50,  60,  70,  80,  90, 100, 110, 120, 130, 140, 150, 160])}],\n",
       "             pre_dispatch='2*n_jobs', refit=True, return_train_score=True,\n",
       "             scoring='r2', verbose=0)"
      ]
     },
     "execution_count": 236,
     "metadata": {
      "tags": []
     },
     "output_type": "execute_result"
    }
   ],
   "source": [
    "from sklearn.model_selection import GridSearchCV\n",
    "from sklearn.model_selection import ShuffleSplit\n",
    "\n",
    "gs = GridSearchCV(RandomForestRegressor(), tuned_parameters,\n",
    "                  cv=ShuffleSplit(n_splits=10), scoring=\"r2\",\n",
    "                  return_train_score=True, n_jobs=-1)\n",
    "gs.fit(df_x, df_y)"
   ]
  },
  {
   "cell_type": "code",
   "execution_count": 0,
   "metadata": {
    "colab": {},
    "colab_type": "code",
    "id": "Cn4f0W3tI1-Y"
   },
   "outputs": [],
   "source": [
    "reg = gs.best_estimator_"
   ]
  },
  {
   "cell_type": "code",
   "execution_count": 238,
   "metadata": {
    "colab": {
     "base_uri": "https://localhost:8080/",
     "height": 268
    },
    "colab_type": "code",
    "id": "50Wl0h2bHa6I",
    "outputId": "60cc42e4-d9d9-4ef6-8576-3328a751f898"
   },
   "outputs": [
    {
     "data": {
      "image/png": "[encoded data removed]",
      "text/plain": [
       "<Figure size 432x288 with 1 Axes>"
      ]
     },
     "metadata": {
      "tags": []
     },
     "output_type": "display_data"
    }
   ],
   "source": [
    "import matplotlib.pyplot as plt\n",
    "\n",
    "plt.plot(param_range, gs.cv_results_[\"mean_train_score\"]);"
   ]
  },
  {
   "cell_type": "code",
   "execution_count": 239,
   "metadata": {
    "colab": {
     "base_uri": "https://localhost:8080/",
     "height": 268
    },
    "colab_type": "code",
    "id": "E932PgxzHds6",
    "outputId": "66e07c97-ac42-47d7-9bf0-87534ee5dcf9"
   },
   "outputs": [
    {
     "data": {
      "image/png": "[encoded data removed]",
      "text/plain": [
       "<Figure size 432x288 with 1 Axes>"
      ]
     },
     "metadata": {
      "tags": []
     },
     "output_type": "display_data"
    }
   ],
   "source": [
    "plt.plot(param_range, gs.cv_results_[\"mean_test_score\"]);"
   ]
  },
  {
   "cell_type": "code",
   "execution_count": 240,
   "metadata": {
    "colab": {
     "base_uri": "https://localhost:8080/",
     "height": 68
    },
    "colab_type": "code",
    "id": "E78HS7BIHfro",
    "outputId": "2ba9f028-12fc-4556-90db-37b67a48c591"
   },
   "outputs": [
    {
     "name": "stdout",
     "output_type": "stream",
     "text": [
      "mean_absolute_error: 137878.87\n",
      "median_absolute_error: 67215.46\n",
      "r2_score: 0.38\n"
     ]
    }
   ],
   "source": [
    "reg.fit(train_x_df, train_y_df)\n",
    "test_model(reg)"
   ]
  },
  {
   "cell_type": "markdown",
   "metadata": {
    "colab_type": "text",
    "id": "rdYY3w_kImLG"
   },
   "source": [
    "### Градиентный бустинг"
   ]
  },
  {
   "cell_type": "code",
   "execution_count": 241,
   "metadata": {
    "colab": {
     "base_uri": "https://localhost:8080/",
     "height": 425
    },
    "colab_type": "code",
    "id": "WrMG7czqIsEk",
    "outputId": "af3fc406-348f-47fe-b62c-7c979c0b88a5"
   },
   "outputs": [
    {
     "data": {
      "text/plain": [
       "GridSearchCV(cv=ShuffleSplit(n_splits=10, random_state=None, test_size=None, train_size=None),\n",
       "             error_score=nan,\n",
       "             estimator=GradientBoostingRegressor(alpha=0.9, ccp_alpha=0.0,\n",
       "                                                 criterion='friedman_mse',\n",
       "                                                 init=None, learning_rate=0.1,\n",
       "                                                 loss='ls', max_depth=3,\n",
       "                                                 max_features=None,\n",
       "                                                 max_leaf_nodes=None,\n",
       "                                                 min_impurity_decrease=0.0,\n",
       "                                                 min_impurity_split=None,\n",
       "                                                 min_samples_leaf=1,\n",
       "                                                 m...\n",
       "                                                 min_weight_fraction_leaf=0.0,\n",
       "                                                 n_estimators=100,\n",
       "                                                 n_iter_no_change=None,\n",
       "                                                 presort='deprecated',\n",
       "                                                 random_state=None,\n",
       "                                                 subsample=1.0, tol=0.0001,\n",
       "                                                 validation_fraction=0.1,\n",
       "                                                 verbose=0, warm_start=False),\n",
       "             iid='deprecated', n_jobs=-1,\n",
       "             param_grid=[{'n_estimators': array([ 50,  60,  70,  80,  90, 100, 110, 120, 130, 140, 150, 160])}],\n",
       "             pre_dispatch='2*n_jobs', refit=True, return_train_score=True,\n",
       "             scoring='r2', verbose=0)"
      ]
     },
     "execution_count": 241,
     "metadata": {
      "tags": []
     },
     "output_type": "execute_result"
    }
   ],
   "source": [
    "gs = GridSearchCV(GradientBoostingRegressor(), tuned_parameters,\n",
    "                  cv=ShuffleSplit(n_splits=10), scoring=\"r2\",\n",
    "                  return_train_score=True, n_jobs=-1)\n",
    "gs.fit(df_x, df_y)"
   ]
  },
  {
   "cell_type": "code",
   "execution_count": 0,
   "metadata": {
    "colab": {},
    "colab_type": "code",
    "id": "wMbprdNkI0jP"
   },
   "outputs": [],
   "source": [
    "reg = gs.best_estimator_"
   ]
  },
  {
   "cell_type": "code",
   "execution_count": 243,
   "metadata": {
    "colab": {
     "base_uri": "https://localhost:8080/",
     "height": 271
    },
    "colab_type": "code",
    "id": "t7rPwUz5I8Bl",
    "outputId": "5218b27b-ff20-4847-c00e-1445708d859a"
   },
   "outputs": [
    {
     "data": {
      "image/png": "[encoded data removed]",
      "text/plain": [
       "<Figure size 432x288 with 1 Axes>"
      ]
     },
     "metadata": {
      "tags": []
     },
     "output_type": "display_data"
    }
   ],
   "source": [
    "plt.plot(param_range, gs.cv_results_[\"mean_train_score\"]);"
   ]
  },
  {
   "cell_type": "code",
   "execution_count": 244,
   "metadata": {
    "colab": {
     "base_uri": "https://localhost:8080/",
     "height": 268
    },
    "colab_type": "code",
    "id": "YVPr2mABI-YU",
    "outputId": "fb7f9a71-e577-46cf-ac37-1b2c882e59e0"
   },
   "outputs": [
    {
     "data": {
      "image/png": "[encoded data removed]",
      "text/plain": [
       "<Figure size 432x288 with 1 Axes>"
      ]
     },
     "metadata": {
      "tags": []
     },
     "output_type": "display_data"
    }
   ],
   "source": [
    "plt.plot(param_range, gs.cv_results_[\"mean_test_score\"]);"
   ]
  },
  {
   "cell_type": "code",
   "execution_count": 245,
   "metadata": {
    "colab": {
     "base_uri": "https://localhost:8080/",
     "height": 68
    },
    "colab_type": "code",
    "id": "kPunj-TmJANn",
    "outputId": "534334fc-7af5-4c0d-f19e-0714932e19cf"
   },
   "outputs": [
    {
     "name": "stdout",
     "output_type": "stream",
     "text": [
      "mean_absolute_error: 155786.09\n",
      "median_absolute_error: 96889.94\n",
      "r2_score: 0.2\n"
     ]
    }
   ],
   "source": [
    "reg.fit(train_x_df, train_y_df)\n",
    "test_model(reg)"
   ]
  }
 ],
 "metadata": {
  "colab": {
   "collapsed_sections": [],
   "name": "lab6_MMO.ipynb",
   "provenance": []
  },
  "kernelspec": {
   "display_name": "Python 3",
   "language": "python",
   "name": "python3"
  },
  "language_info": {
   "codemirror_mode": {
    "name": "ipython",
    "version": 3
   },
   "file_extension": ".py",
   "mimetype": "text/x-python",
   "name": "python",
   "nbconvert_exporter": "python",
   "pygments_lexer": "ipython3",
   "version": "3.7.7"
  }
 },
 "nbformat": 4,
 "nbformat_minor": 1
}
