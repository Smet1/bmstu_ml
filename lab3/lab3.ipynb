{
 "cells": [
  {
   "cell_type": "code",
   "execution_count": 0,
   "metadata": {
    "colab": {},
    "colab_type": "code",
    "id": "ZsMMaoUUdt0c"
   },
   "outputs": [],
   "source": [
    "import pandas as pd\n",
    "import numpy as np\n",
    "import seaborn as sns\n",
    "from sklearn.impute import SimpleImputer\n",
    "from sklearn.preprocessing import LabelEncoder, OneHotEncoder\n",
    "from sklearn.preprocessing import MinMaxScaler, StandardScaler, Normalizer\n",
    "\n",
    "%matplotlib inline \n",
    "sns.set(style=\"ticks\")"
   ]
  },
  {
   "cell_type": "code",
   "execution_count": 0,
   "metadata": {
    "colab": {},
    "colab_type": "code",
    "id": "NuK0ccaYd0-9"
   },
   "outputs": [],
   "source": [
    "url = 'https://raw.githubusercontent.com/Smet1/bmstu_ml/master/lab3/data.csv'\n",
    "df = pd.read_csv(url, error_bad_lines=False)"
   ]
  },
  {
   "cell_type": "code",
   "execution_count": 32,
   "metadata": {
    "colab": {
     "base_uri": "https://localhost:8080/",
     "height": 372
    },
    "colab_type": "code",
    "id": "CO5lgYsReV9p",
    "outputId": "3c1a48c0-8c2d-4803-eb6e-c72bebe5efab"
   },
   "outputs": [
    {
     "data": {
      "text/html": [
       "<div>\n",
       "<style scoped>\n",
       "    .dataframe tbody tr th:only-of-type {\n",
       "        vertical-align: middle;\n",
       "    }\n",
       "\n",
       "    .dataframe tbody tr th {\n",
       "        vertical-align: top;\n",
       "    }\n",
       "\n",
       "    .dataframe thead th {\n",
       "        text-align: right;\n",
       "    }\n",
       "</style>\n",
       "<table border=\"1\" class=\"dataframe\">\n",
       "  <thead>\n",
       "    <tr style=\"text-align: right;\">\n",
       "      <th></th>\n",
       "      <th>Unnamed: 0</th>\n",
       "      <th>ID</th>\n",
       "      <th>Name</th>\n",
       "      <th>Age</th>\n",
       "      <th>Photo</th>\n",
       "      <th>Nationality</th>\n",
       "      <th>Flag</th>\n",
       "      <th>Overall</th>\n",
       "      <th>Potential</th>\n",
       "      <th>Club</th>\n",
       "      <th>Club Logo</th>\n",
       "      <th>Value</th>\n",
       "      <th>Wage</th>\n",
       "      <th>Special</th>\n",
       "      <th>Preferred Foot</th>\n",
       "      <th>International Reputation</th>\n",
       "      <th>Weak Foot</th>\n",
       "      <th>Skill Moves</th>\n",
       "      <th>Work Rate</th>\n",
       "      <th>Body Type</th>\n",
       "      <th>Real Face</th>\n",
       "      <th>Position</th>\n",
       "      <th>Jersey Number</th>\n",
       "      <th>Joined</th>\n",
       "      <th>Loaned From</th>\n",
       "      <th>Contract Valid Until</th>\n",
       "      <th>Height</th>\n",
       "      <th>Weight</th>\n",
       "      <th>LS</th>\n",
       "      <th>ST</th>\n",
       "      <th>RS</th>\n",
       "      <th>LW</th>\n",
       "      <th>LF</th>\n",
       "      <th>CF</th>\n",
       "      <th>RF</th>\n",
       "      <th>RW</th>\n",
       "      <th>LAM</th>\n",
       "      <th>CAM</th>\n",
       "      <th>RAM</th>\n",
       "      <th>LM</th>\n",
       "      <th>...</th>\n",
       "      <th>LB</th>\n",
       "      <th>LCB</th>\n",
       "      <th>CB</th>\n",
       "      <th>RCB</th>\n",
       "      <th>RB</th>\n",
       "      <th>Crossing</th>\n",
       "      <th>Finishing</th>\n",
       "      <th>HeadingAccuracy</th>\n",
       "      <th>ShortPassing</th>\n",
       "      <th>Volleys</th>\n",
       "      <th>Dribbling</th>\n",
       "      <th>Curve</th>\n",
       "      <th>FKAccuracy</th>\n",
       "      <th>LongPassing</th>\n",
       "      <th>BallControl</th>\n",
       "      <th>Acceleration</th>\n",
       "      <th>SprintSpeed</th>\n",
       "      <th>Agility</th>\n",
       "      <th>Reactions</th>\n",
       "      <th>Balance</th>\n",
       "      <th>ShotPower</th>\n",
       "      <th>Jumping</th>\n",
       "      <th>Stamina</th>\n",
       "      <th>Strength</th>\n",
       "      <th>LongShots</th>\n",
       "      <th>Aggression</th>\n",
       "      <th>Interceptions</th>\n",
       "      <th>Positioning</th>\n",
       "      <th>Vision</th>\n",
       "      <th>Penalties</th>\n",
       "      <th>Composure</th>\n",
       "      <th>Marking</th>\n",
       "      <th>StandingTackle</th>\n",
       "      <th>SlidingTackle</th>\n",
       "      <th>GKDiving</th>\n",
       "      <th>GKHandling</th>\n",
       "      <th>GKKicking</th>\n",
       "      <th>GKPositioning</th>\n",
       "      <th>GKReflexes</th>\n",
       "      <th>Release Clause</th>\n",
       "    </tr>\n",
       "  </thead>\n",
       "  <tbody>\n",
       "    <tr>\n",
       "      <th>0</th>\n",
       "      <td>0</td>\n",
       "      <td>158023</td>\n",
       "      <td>L. Messi</td>\n",
       "      <td>31</td>\n",
       "      <td>https://cdn.sofifa.org/players/4/19/158023.png</td>\n",
       "      <td>Argentina</td>\n",
       "      <td>https://cdn.sofifa.org/flags/52.png</td>\n",
       "      <td>94</td>\n",
       "      <td>94</td>\n",
       "      <td>FC Barcelona</td>\n",
       "      <td>https://cdn.sofifa.org/teams/2/light/241.png</td>\n",
       "      <td>€110.5M</td>\n",
       "      <td>€565K</td>\n",
       "      <td>2202</td>\n",
       "      <td>Left</td>\n",
       "      <td>5.0</td>\n",
       "      <td>4.0</td>\n",
       "      <td>4.0</td>\n",
       "      <td>Medium/ Medium</td>\n",
       "      <td>Messi</td>\n",
       "      <td>Yes</td>\n",
       "      <td>RF</td>\n",
       "      <td>10.0</td>\n",
       "      <td>Jul 1, 2004</td>\n",
       "      <td>NaN</td>\n",
       "      <td>2021</td>\n",
       "      <td>5'7</td>\n",
       "      <td>159lbs</td>\n",
       "      <td>88+2</td>\n",
       "      <td>88+2</td>\n",
       "      <td>88+2</td>\n",
       "      <td>92+2</td>\n",
       "      <td>93+2</td>\n",
       "      <td>93+2</td>\n",
       "      <td>93+2</td>\n",
       "      <td>92+2</td>\n",
       "      <td>93+2</td>\n",
       "      <td>93+2</td>\n",
       "      <td>93+2</td>\n",
       "      <td>91+2</td>\n",
       "      <td>...</td>\n",
       "      <td>59+2</td>\n",
       "      <td>47+2</td>\n",
       "      <td>47+2</td>\n",
       "      <td>47+2</td>\n",
       "      <td>59+2</td>\n",
       "      <td>84.0</td>\n",
       "      <td>95.0</td>\n",
       "      <td>70.0</td>\n",
       "      <td>90.0</td>\n",
       "      <td>86.0</td>\n",
       "      <td>97.0</td>\n",
       "      <td>93.0</td>\n",
       "      <td>94.0</td>\n",
       "      <td>87.0</td>\n",
       "      <td>96.0</td>\n",
       "      <td>91.0</td>\n",
       "      <td>86.0</td>\n",
       "      <td>91.0</td>\n",
       "      <td>95.0</td>\n",
       "      <td>95.0</td>\n",
       "      <td>85.0</td>\n",
       "      <td>68.0</td>\n",
       "      <td>72.0</td>\n",
       "      <td>59.0</td>\n",
       "      <td>94.0</td>\n",
       "      <td>48.0</td>\n",
       "      <td>22.0</td>\n",
       "      <td>94.0</td>\n",
       "      <td>94.0</td>\n",
       "      <td>75.0</td>\n",
       "      <td>96.0</td>\n",
       "      <td>33.0</td>\n",
       "      <td>28.0</td>\n",
       "      <td>26.0</td>\n",
       "      <td>6.0</td>\n",
       "      <td>11.0</td>\n",
       "      <td>15.0</td>\n",
       "      <td>14.0</td>\n",
       "      <td>8.0</td>\n",
       "      <td>€226.5M</td>\n",
       "    </tr>\n",
       "    <tr>\n",
       "      <th>1</th>\n",
       "      <td>1</td>\n",
       "      <td>20801</td>\n",
       "      <td>Cristiano Ronaldo</td>\n",
       "      <td>33</td>\n",
       "      <td>https://cdn.sofifa.org/players/4/19/20801.png</td>\n",
       "      <td>Portugal</td>\n",
       "      <td>https://cdn.sofifa.org/flags/38.png</td>\n",
       "      <td>94</td>\n",
       "      <td>94</td>\n",
       "      <td>Juventus</td>\n",
       "      <td>https://cdn.sofifa.org/teams/2/light/45.png</td>\n",
       "      <td>€77M</td>\n",
       "      <td>€405K</td>\n",
       "      <td>2228</td>\n",
       "      <td>Right</td>\n",
       "      <td>5.0</td>\n",
       "      <td>4.0</td>\n",
       "      <td>5.0</td>\n",
       "      <td>High/ Low</td>\n",
       "      <td>C. Ronaldo</td>\n",
       "      <td>Yes</td>\n",
       "      <td>ST</td>\n",
       "      <td>7.0</td>\n",
       "      <td>Jul 10, 2018</td>\n",
       "      <td>NaN</td>\n",
       "      <td>2022</td>\n",
       "      <td>6'2</td>\n",
       "      <td>183lbs</td>\n",
       "      <td>91+3</td>\n",
       "      <td>91+3</td>\n",
       "      <td>91+3</td>\n",
       "      <td>89+3</td>\n",
       "      <td>90+3</td>\n",
       "      <td>90+3</td>\n",
       "      <td>90+3</td>\n",
       "      <td>89+3</td>\n",
       "      <td>88+3</td>\n",
       "      <td>88+3</td>\n",
       "      <td>88+3</td>\n",
       "      <td>88+3</td>\n",
       "      <td>...</td>\n",
       "      <td>61+3</td>\n",
       "      <td>53+3</td>\n",
       "      <td>53+3</td>\n",
       "      <td>53+3</td>\n",
       "      <td>61+3</td>\n",
       "      <td>84.0</td>\n",
       "      <td>94.0</td>\n",
       "      <td>89.0</td>\n",
       "      <td>81.0</td>\n",
       "      <td>87.0</td>\n",
       "      <td>88.0</td>\n",
       "      <td>81.0</td>\n",
       "      <td>76.0</td>\n",
       "      <td>77.0</td>\n",
       "      <td>94.0</td>\n",
       "      <td>89.0</td>\n",
       "      <td>91.0</td>\n",
       "      <td>87.0</td>\n",
       "      <td>96.0</td>\n",
       "      <td>70.0</td>\n",
       "      <td>95.0</td>\n",
       "      <td>95.0</td>\n",
       "      <td>88.0</td>\n",
       "      <td>79.0</td>\n",
       "      <td>93.0</td>\n",
       "      <td>63.0</td>\n",
       "      <td>29.0</td>\n",
       "      <td>95.0</td>\n",
       "      <td>82.0</td>\n",
       "      <td>85.0</td>\n",
       "      <td>95.0</td>\n",
       "      <td>28.0</td>\n",
       "      <td>31.0</td>\n",
       "      <td>23.0</td>\n",
       "      <td>7.0</td>\n",
       "      <td>11.0</td>\n",
       "      <td>15.0</td>\n",
       "      <td>14.0</td>\n",
       "      <td>11.0</td>\n",
       "      <td>€127.1M</td>\n",
       "    </tr>\n",
       "    <tr>\n",
       "      <th>2</th>\n",
       "      <td>2</td>\n",
       "      <td>190871</td>\n",
       "      <td>Neymar Jr</td>\n",
       "      <td>26</td>\n",
       "      <td>https://cdn.sofifa.org/players/4/19/190871.png</td>\n",
       "      <td>Brazil</td>\n",
       "      <td>https://cdn.sofifa.org/flags/54.png</td>\n",
       "      <td>92</td>\n",
       "      <td>93</td>\n",
       "      <td>Paris Saint-Germain</td>\n",
       "      <td>https://cdn.sofifa.org/teams/2/light/73.png</td>\n",
       "      <td>€118.5M</td>\n",
       "      <td>€290K</td>\n",
       "      <td>2143</td>\n",
       "      <td>Right</td>\n",
       "      <td>5.0</td>\n",
       "      <td>5.0</td>\n",
       "      <td>5.0</td>\n",
       "      <td>High/ Medium</td>\n",
       "      <td>Neymar</td>\n",
       "      <td>Yes</td>\n",
       "      <td>LW</td>\n",
       "      <td>10.0</td>\n",
       "      <td>Aug 3, 2017</td>\n",
       "      <td>NaN</td>\n",
       "      <td>2022</td>\n",
       "      <td>5'9</td>\n",
       "      <td>150lbs</td>\n",
       "      <td>84+3</td>\n",
       "      <td>84+3</td>\n",
       "      <td>84+3</td>\n",
       "      <td>89+3</td>\n",
       "      <td>89+3</td>\n",
       "      <td>89+3</td>\n",
       "      <td>89+3</td>\n",
       "      <td>89+3</td>\n",
       "      <td>89+3</td>\n",
       "      <td>89+3</td>\n",
       "      <td>89+3</td>\n",
       "      <td>88+3</td>\n",
       "      <td>...</td>\n",
       "      <td>60+3</td>\n",
       "      <td>47+3</td>\n",
       "      <td>47+3</td>\n",
       "      <td>47+3</td>\n",
       "      <td>60+3</td>\n",
       "      <td>79.0</td>\n",
       "      <td>87.0</td>\n",
       "      <td>62.0</td>\n",
       "      <td>84.0</td>\n",
       "      <td>84.0</td>\n",
       "      <td>96.0</td>\n",
       "      <td>88.0</td>\n",
       "      <td>87.0</td>\n",
       "      <td>78.0</td>\n",
       "      <td>95.0</td>\n",
       "      <td>94.0</td>\n",
       "      <td>90.0</td>\n",
       "      <td>96.0</td>\n",
       "      <td>94.0</td>\n",
       "      <td>84.0</td>\n",
       "      <td>80.0</td>\n",
       "      <td>61.0</td>\n",
       "      <td>81.0</td>\n",
       "      <td>49.0</td>\n",
       "      <td>82.0</td>\n",
       "      <td>56.0</td>\n",
       "      <td>36.0</td>\n",
       "      <td>89.0</td>\n",
       "      <td>87.0</td>\n",
       "      <td>81.0</td>\n",
       "      <td>94.0</td>\n",
       "      <td>27.0</td>\n",
       "      <td>24.0</td>\n",
       "      <td>33.0</td>\n",
       "      <td>9.0</td>\n",
       "      <td>9.0</td>\n",
       "      <td>15.0</td>\n",
       "      <td>15.0</td>\n",
       "      <td>11.0</td>\n",
       "      <td>€228.1M</td>\n",
       "    </tr>\n",
       "    <tr>\n",
       "      <th>3</th>\n",
       "      <td>3</td>\n",
       "      <td>193080</td>\n",
       "      <td>De Gea</td>\n",
       "      <td>27</td>\n",
       "      <td>https://cdn.sofifa.org/players/4/19/193080.png</td>\n",
       "      <td>Spain</td>\n",
       "      <td>https://cdn.sofifa.org/flags/45.png</td>\n",
       "      <td>91</td>\n",
       "      <td>93</td>\n",
       "      <td>Manchester United</td>\n",
       "      <td>https://cdn.sofifa.org/teams/2/light/11.png</td>\n",
       "      <td>€72M</td>\n",
       "      <td>€260K</td>\n",
       "      <td>1471</td>\n",
       "      <td>Right</td>\n",
       "      <td>4.0</td>\n",
       "      <td>3.0</td>\n",
       "      <td>1.0</td>\n",
       "      <td>Medium/ Medium</td>\n",
       "      <td>Lean</td>\n",
       "      <td>Yes</td>\n",
       "      <td>GK</td>\n",
       "      <td>1.0</td>\n",
       "      <td>Jul 1, 2011</td>\n",
       "      <td>NaN</td>\n",
       "      <td>2020</td>\n",
       "      <td>6'4</td>\n",
       "      <td>168lbs</td>\n",
       "      <td>NaN</td>\n",
       "      <td>NaN</td>\n",
       "      <td>NaN</td>\n",
       "      <td>NaN</td>\n",
       "      <td>NaN</td>\n",
       "      <td>NaN</td>\n",
       "      <td>NaN</td>\n",
       "      <td>NaN</td>\n",
       "      <td>NaN</td>\n",
       "      <td>NaN</td>\n",
       "      <td>NaN</td>\n",
       "      <td>NaN</td>\n",
       "      <td>...</td>\n",
       "      <td>NaN</td>\n",
       "      <td>NaN</td>\n",
       "      <td>NaN</td>\n",
       "      <td>NaN</td>\n",
       "      <td>NaN</td>\n",
       "      <td>17.0</td>\n",
       "      <td>13.0</td>\n",
       "      <td>21.0</td>\n",
       "      <td>50.0</td>\n",
       "      <td>13.0</td>\n",
       "      <td>18.0</td>\n",
       "      <td>21.0</td>\n",
       "      <td>19.0</td>\n",
       "      <td>51.0</td>\n",
       "      <td>42.0</td>\n",
       "      <td>57.0</td>\n",
       "      <td>58.0</td>\n",
       "      <td>60.0</td>\n",
       "      <td>90.0</td>\n",
       "      <td>43.0</td>\n",
       "      <td>31.0</td>\n",
       "      <td>67.0</td>\n",
       "      <td>43.0</td>\n",
       "      <td>64.0</td>\n",
       "      <td>12.0</td>\n",
       "      <td>38.0</td>\n",
       "      <td>30.0</td>\n",
       "      <td>12.0</td>\n",
       "      <td>68.0</td>\n",
       "      <td>40.0</td>\n",
       "      <td>68.0</td>\n",
       "      <td>15.0</td>\n",
       "      <td>21.0</td>\n",
       "      <td>13.0</td>\n",
       "      <td>90.0</td>\n",
       "      <td>85.0</td>\n",
       "      <td>87.0</td>\n",
       "      <td>88.0</td>\n",
       "      <td>94.0</td>\n",
       "      <td>€138.6M</td>\n",
       "    </tr>\n",
       "    <tr>\n",
       "      <th>4</th>\n",
       "      <td>4</td>\n",
       "      <td>192985</td>\n",
       "      <td>K. De Bruyne</td>\n",
       "      <td>27</td>\n",
       "      <td>https://cdn.sofifa.org/players/4/19/192985.png</td>\n",
       "      <td>Belgium</td>\n",
       "      <td>https://cdn.sofifa.org/flags/7.png</td>\n",
       "      <td>91</td>\n",
       "      <td>92</td>\n",
       "      <td>Manchester City</td>\n",
       "      <td>https://cdn.sofifa.org/teams/2/light/10.png</td>\n",
       "      <td>€102M</td>\n",
       "      <td>€355K</td>\n",
       "      <td>2281</td>\n",
       "      <td>Right</td>\n",
       "      <td>4.0</td>\n",
       "      <td>5.0</td>\n",
       "      <td>4.0</td>\n",
       "      <td>High/ High</td>\n",
       "      <td>Normal</td>\n",
       "      <td>Yes</td>\n",
       "      <td>RCM</td>\n",
       "      <td>7.0</td>\n",
       "      <td>Aug 30, 2015</td>\n",
       "      <td>NaN</td>\n",
       "      <td>2023</td>\n",
       "      <td>5'11</td>\n",
       "      <td>154lbs</td>\n",
       "      <td>82+3</td>\n",
       "      <td>82+3</td>\n",
       "      <td>82+3</td>\n",
       "      <td>87+3</td>\n",
       "      <td>87+3</td>\n",
       "      <td>87+3</td>\n",
       "      <td>87+3</td>\n",
       "      <td>87+3</td>\n",
       "      <td>88+3</td>\n",
       "      <td>88+3</td>\n",
       "      <td>88+3</td>\n",
       "      <td>88+3</td>\n",
       "      <td>...</td>\n",
       "      <td>73+3</td>\n",
       "      <td>66+3</td>\n",
       "      <td>66+3</td>\n",
       "      <td>66+3</td>\n",
       "      <td>73+3</td>\n",
       "      <td>93.0</td>\n",
       "      <td>82.0</td>\n",
       "      <td>55.0</td>\n",
       "      <td>92.0</td>\n",
       "      <td>82.0</td>\n",
       "      <td>86.0</td>\n",
       "      <td>85.0</td>\n",
       "      <td>83.0</td>\n",
       "      <td>91.0</td>\n",
       "      <td>91.0</td>\n",
       "      <td>78.0</td>\n",
       "      <td>76.0</td>\n",
       "      <td>79.0</td>\n",
       "      <td>91.0</td>\n",
       "      <td>77.0</td>\n",
       "      <td>91.0</td>\n",
       "      <td>63.0</td>\n",
       "      <td>90.0</td>\n",
       "      <td>75.0</td>\n",
       "      <td>91.0</td>\n",
       "      <td>76.0</td>\n",
       "      <td>61.0</td>\n",
       "      <td>87.0</td>\n",
       "      <td>94.0</td>\n",
       "      <td>79.0</td>\n",
       "      <td>88.0</td>\n",
       "      <td>68.0</td>\n",
       "      <td>58.0</td>\n",
       "      <td>51.0</td>\n",
       "      <td>15.0</td>\n",
       "      <td>13.0</td>\n",
       "      <td>5.0</td>\n",
       "      <td>10.0</td>\n",
       "      <td>13.0</td>\n",
       "      <td>€196.4M</td>\n",
       "    </tr>\n",
       "  </tbody>\n",
       "</table>\n",
       "<p>5 rows × 89 columns</p>\n",
       "</div>"
      ],
      "text/plain": [
       "   Unnamed: 0      ID  ... GKReflexes  Release Clause\n",
       "0           0  158023  ...        8.0         €226.5M\n",
       "1           1   20801  ...       11.0         €127.1M\n",
       "2           2  190871  ...       11.0         €228.1M\n",
       "3           3  193080  ...       94.0         €138.6M\n",
       "4           4  192985  ...       13.0         €196.4M\n",
       "\n",
       "[5 rows x 89 columns]"
      ]
     },
     "execution_count": 32,
     "metadata": {
      "tags": []
     },
     "output_type": "execute_result"
    }
   ],
   "source": [
    "df.head()"
   ]
  },
  {
   "cell_type": "code",
   "execution_count": 33,
   "metadata": {
    "colab": {
     "base_uri": "https://localhost:8080/",
     "height": 34
    },
    "colab_type": "code",
    "id": "_D7rJPfKehdU",
    "outputId": "0b1bc10e-dbb7-4432-9636-d0269789e81c"
   },
   "outputs": [
    {
     "name": "stdout",
     "output_type": "stream",
     "text": [
      "Данный датасет содержит 18207 строк и 89 столбца.\n"
     ]
    }
   ],
   "source": [
    "row_number = df.shape[0]\n",
    "column_number = df.shape[1]\n",
    "\n",
    "print('Данный датасет содержит {} строк и {} столбца.'.format(row_number, column_number))"
   ]
  },
  {
   "cell_type": "markdown",
   "metadata": {
    "colab_type": "text",
    "id": "HeCFoZiDeqEv"
   },
   "source": [
    "## 1. Обработка пропусков в данных"
   ]
  },
  {
   "cell_type": "code",
   "execution_count": 34,
   "metadata": {
    "colab": {
     "base_uri": "https://localhost:8080/",
     "height": 1000
    },
    "colab_type": "code",
    "id": "VJxrNRKJesl8",
    "outputId": "15620fff-d834-4cfe-b3e5-5355637826c4"
   },
   "outputs": [
    {
     "name": "stdout",
     "output_type": "stream",
     "text": [
      "Club - 241 - 1.324. Тип - object\n",
      "Preferred Foot - 48 - 0.264. Тип - object\n",
      "International Reputation - 48 - 0.264. Тип - float64\n",
      "Weak Foot - 48 - 0.264. Тип - float64\n",
      "Skill Moves - 48 - 0.264. Тип - float64\n",
      "Work Rate - 48 - 0.264. Тип - object\n",
      "Body Type - 48 - 0.264. Тип - object\n",
      "Real Face - 48 - 0.264. Тип - object\n",
      "Position - 60 - 0.33. Тип - object\n",
      "Jersey Number - 60 - 0.33. Тип - float64\n",
      "Joined - 1553 - 8.53. Тип - object\n",
      "Loaned From - 16943 - 93.058. Тип - object\n",
      "Contract Valid Until - 289 - 1.587. Тип - object\n",
      "Height - 48 - 0.264. Тип - object\n",
      "Weight - 48 - 0.264. Тип - object\n",
      "LS - 2085 - 11.452. Тип - object\n",
      "ST - 2085 - 11.452. Тип - object\n",
      "RS - 2085 - 11.452. Тип - object\n",
      "LW - 2085 - 11.452. Тип - object\n",
      "LF - 2085 - 11.452. Тип - object\n",
      "CF - 2085 - 11.452. Тип - object\n",
      "RF - 2085 - 11.452. Тип - object\n",
      "RW - 2085 - 11.452. Тип - object\n",
      "LAM - 2085 - 11.452. Тип - object\n",
      "CAM - 2085 - 11.452. Тип - object\n",
      "RAM - 2085 - 11.452. Тип - object\n",
      "LM - 2085 - 11.452. Тип - object\n",
      "LCM - 2085 - 11.452. Тип - object\n",
      "CM - 2085 - 11.452. Тип - object\n",
      "RCM - 2085 - 11.452. Тип - object\n",
      "RM - 2085 - 11.452. Тип - object\n",
      "LWB - 2085 - 11.452. Тип - object\n",
      "LDM - 2085 - 11.452. Тип - object\n",
      "CDM - 2085 - 11.452. Тип - object\n",
      "RDM - 2085 - 11.452. Тип - object\n",
      "RWB - 2085 - 11.452. Тип - object\n",
      "LB - 2085 - 11.452. Тип - object\n",
      "LCB - 2085 - 11.452. Тип - object\n",
      "CB - 2085 - 11.452. Тип - object\n",
      "RCB - 2085 - 11.452. Тип - object\n",
      "RB - 2085 - 11.452. Тип - object\n",
      "Crossing - 48 - 0.264. Тип - float64\n",
      "Finishing - 48 - 0.264. Тип - float64\n",
      "HeadingAccuracy - 48 - 0.264. Тип - float64\n",
      "ShortPassing - 48 - 0.264. Тип - float64\n",
      "Volleys - 48 - 0.264. Тип - float64\n",
      "Dribbling - 48 - 0.264. Тип - float64\n",
      "Curve - 48 - 0.264. Тип - float64\n",
      "FKAccuracy - 48 - 0.264. Тип - float64\n",
      "LongPassing - 48 - 0.264. Тип - float64\n",
      "BallControl - 48 - 0.264. Тип - float64\n",
      "Acceleration - 48 - 0.264. Тип - float64\n",
      "SprintSpeed - 48 - 0.264. Тип - float64\n",
      "Agility - 48 - 0.264. Тип - float64\n",
      "Reactions - 48 - 0.264. Тип - float64\n",
      "Balance - 48 - 0.264. Тип - float64\n",
      "ShotPower - 48 - 0.264. Тип - float64\n",
      "Jumping - 48 - 0.264. Тип - float64\n",
      "Stamina - 48 - 0.264. Тип - float64\n",
      "Strength - 48 - 0.264. Тип - float64\n",
      "LongShots - 48 - 0.264. Тип - float64\n",
      "Aggression - 48 - 0.264. Тип - float64\n",
      "Interceptions - 48 - 0.264. Тип - float64\n",
      "Positioning - 48 - 0.264. Тип - float64\n",
      "Vision - 48 - 0.264. Тип - float64\n",
      "Penalties - 48 - 0.264. Тип - float64\n",
      "Composure - 48 - 0.264. Тип - float64\n",
      "Marking - 48 - 0.264. Тип - float64\n",
      "StandingTackle - 48 - 0.264. Тип - float64\n",
      "SlidingTackle - 48 - 0.264. Тип - float64\n",
      "GKDiving - 48 - 0.264. Тип - float64\n",
      "GKHandling - 48 - 0.264. Тип - float64\n",
      "GKKicking - 48 - 0.264. Тип - float64\n",
      "GKPositioning - 48 - 0.264. Тип - float64\n",
      "GKReflexes - 48 - 0.264. Тип - float64\n",
      "Release Clause - 1564 - 8.59. Тип - object\n"
     ]
    }
   ],
   "source": [
    "for col in df.columns:\n",
    "    null_count = df[df[col].isnull()].shape[0]\n",
    "    if null_count > 0:\n",
    "        column_type = df[col].dtype\n",
    "        percent = round((null_count / row_number) * 100, 3)\n",
    "        print('{} - {} - {}. Тип - {}'.format(col, null_count, percent, column_type))"
   ]
  },
  {
   "cell_type": "markdown",
   "metadata": {
    "colab_type": "text",
    "id": "1d9Ueo-FgOH8"
   },
   "source": [
    "### 1.1 Удаление пустых значений"
   ]
  },
  {
   "cell_type": "code",
   "execution_count": 0,
   "metadata": {
    "colab": {},
    "colab_type": "code",
    "id": "lvIBSa3FgXqZ"
   },
   "outputs": [],
   "source": [
    "df = df[df['Club'].notna()]\n",
    "\n",
    "# удаление столбца\n",
    "df.drop(columns=['Loaned From'], inplace=True)"
   ]
  },
  {
   "cell_type": "code",
   "execution_count": 36,
   "metadata": {
    "colab": {
     "base_uri": "https://localhost:8080/",
     "height": 34
    },
    "colab_type": "code",
    "id": "pYGDzw0Xkln9",
    "outputId": "7179519d-40c1-4dca-89e3-8915ee2f2253"
   },
   "outputs": [
    {
     "name": "stdout",
     "output_type": "stream",
     "text": [
      "Данный датасет содержит 17966 строк и 88 столбца.\n"
     ]
    }
   ],
   "source": [
    "row_number = df.shape[0]\n",
    "column_number = df.shape[1]\n",
    "\n",
    "print('Данный датасет содержит {} строк и {} столбца.'.format(row_number, column_number))"
   ]
  },
  {
   "cell_type": "markdown",
   "metadata": {
    "colab_type": "text",
    "id": "J58w7ZH7k912"
   },
   "source": [
    "### 1.2 Заполнение нулями"
   ]
  },
  {
   "cell_type": "code",
   "execution_count": 37,
   "metadata": {
    "colab": {
     "base_uri": "https://localhost:8080/",
     "height": 34
    },
    "colab_type": "code",
    "id": "b8zqYKA2k5CH",
    "outputId": "8f178f04-2979-43ce-80f4-6d3b964d5d07"
   },
   "outputs": [
    {
     "data": {
      "text/plain": [
       "(0, 88)"
      ]
     },
     "execution_count": 37,
     "metadata": {
      "tags": []
     },
     "output_type": "execute_result"
    }
   ],
   "source": [
    "df['FKAccuracy'] = df['FKAccuracy'].fillna(0)\n",
    "\n",
    "df[df['FKAccuracy'].isnull()].shape"
   ]
  },
  {
   "cell_type": "markdown",
   "metadata": {
    "colab_type": "text",
    "id": "eOS9ME9elX0n"
   },
   "source": [
    "### 1.3 Внедрение значений в числовых данных"
   ]
  },
  {
   "cell_type": "code",
   "execution_count": 44,
   "metadata": {
    "colab": {
     "base_uri": "https://localhost:8080/",
     "height": 285
    },
    "colab_type": "code",
    "id": "FMFga5LQl0WR",
    "outputId": "b2468a14-70ab-4e66-dcd8-c4584cbc309e"
   },
   "outputs": [
    {
     "data": {
      "text/plain": [
       "<matplotlib.axes._subplots.AxesSubplot at 0x7f7719ae2ba8>"
      ]
     },
     "execution_count": 44,
     "metadata": {
      "tags": []
     },
     "output_type": "execute_result"
    },
    {
     "data": {
      "image/png": "[encoded data removed]",
      "text/plain": [
       "<Figure size 432x288 with 1 Axes>"
      ]
     },
     "metadata": {
      "tags": []
     },
     "output_type": "display_data"
    }
   ],
   "source": [
    "df['Weak Foot'].plot.hist()"
   ]
  },
  {
   "cell_type": "code",
   "execution_count": 45,
   "metadata": {
    "colab": {
     "base_uri": "https://localhost:8080/",
     "height": 170
    },
    "colab_type": "code",
    "id": "oiJ80HsEnmy2",
    "outputId": "4b00812c-68b0-4d5a-d267-dc9f9f9153e9"
   },
   "outputs": [
    {
     "data": {
      "text/plain": [
       "count    17918.000000\n",
       "mean         2.947260\n",
       "std          0.660106\n",
       "min          1.000000\n",
       "25%          3.000000\n",
       "50%          3.000000\n",
       "75%          3.000000\n",
       "max          5.000000\n",
       "Name: Weak Foot, dtype: float64"
      ]
     },
     "execution_count": 45,
     "metadata": {
      "tags": []
     },
     "output_type": "execute_result"
    }
   ],
   "source": [
    "df['Weak Foot'].describe()"
   ]
  },
  {
   "cell_type": "code",
   "execution_count": 46,
   "metadata": {
    "colab": {
     "base_uri": "https://localhost:8080/",
     "height": 34
    },
    "colab_type": "code",
    "id": "ksVrdKYRnsmF",
    "outputId": "5b731985-48ba-4ef5-f39f-c9594d3f8310"
   },
   "outputs": [
    {
     "data": {
      "text/plain": [
       "62.34554157853724"
      ]
     },
     "execution_count": 46,
     "metadata": {
      "tags": []
     },
     "output_type": "execute_result"
    }
   ],
   "source": [
    "mode = df['Weak Foot'].mode()[0]\n",
    "(df[df['Weak Foot'] == mode].shape[0]/row_number) * 100"
   ]
  },
  {
   "cell_type": "code",
   "execution_count": 47,
   "metadata": {
    "colab": {
     "base_uri": "https://localhost:8080/",
     "height": 34
    },
    "colab_type": "code",
    "id": "JGiaFSVyn4N1",
    "outputId": "5a5fb659-760e-432b-a76d-0b7fccefbbd6"
   },
   "outputs": [
    {
     "data": {
      "text/plain": [
       "62.34554157853724"
      ]
     },
     "execution_count": 47,
     "metadata": {
      "tags": []
     },
     "output_type": "execute_result"
    }
   ],
   "source": [
    "median = df['Weak Foot'].describe()['50%']\n",
    "(df[df['Weak Foot'] == median].shape[0]/row_number) * 100"
   ]
  },
  {
   "cell_type": "code",
   "execution_count": 0,
   "metadata": {
    "colab": {},
    "colab_type": "code",
    "id": "p-Dgl3HboALz"
   },
   "outputs": [],
   "source": [
    "imp = SimpleImputer(strategy='most_frequent')\n",
    "df['Weak Foot'] = imp.fit_transform(df[['Weak Foot']])"
   ]
  },
  {
   "cell_type": "code",
   "execution_count": 50,
   "metadata": {
    "colab": {
     "base_uri": "https://localhost:8080/",
     "height": 34
    },
    "colab_type": "code",
    "id": "kN7i71vroF5d",
    "outputId": "ab0820dd-1499-48b5-d76a-c86356251974"
   },
   "outputs": [
    {
     "data": {
      "text/plain": [
       "(0, 88)"
      ]
     },
     "execution_count": 50,
     "metadata": {
      "tags": []
     },
     "output_type": "execute_result"
    }
   ],
   "source": [
    "df[df['Weak Foot'].isnull()].shape"
   ]
  },
  {
   "cell_type": "markdown",
   "metadata": {
    "colab_type": "text",
    "id": "NjFn0q2knAyd"
   },
   "source": [
    "### 1.4 Внедрение значений в категориальных данных"
   ]
  },
  {
   "cell_type": "code",
   "execution_count": 0,
   "metadata": {
    "colab": {},
    "colab_type": "code",
    "id": "owWDN5Z_nFTs"
   },
   "outputs": [],
   "source": [
    "imp = SimpleImputer(strategy='most_frequent')\n",
    "df['Stamina'] = imp.fit_transform(df[['Stamina']])"
   ]
  },
  {
   "cell_type": "code",
   "execution_count": 0,
   "metadata": {
    "colab": {},
    "colab_type": "code",
    "id": "gf1ShFxJoSzY"
   },
   "outputs": [],
   "source": []
  },
  {
   "cell_type": "code",
   "execution_count": 43,
   "metadata": {
    "colab": {
     "base_uri": "https://localhost:8080/",
     "height": 34
    },
    "colab_type": "code",
    "id": "3tLnoxQknJKT",
    "outputId": "85b9a644-21e2-4543-ea3c-8e21cd66a4c4"
   },
   "outputs": [
    {
     "data": {
      "text/plain": [
       "(0, 88)"
      ]
     },
     "execution_count": 43,
     "metadata": {
      "tags": []
     },
     "output_type": "execute_result"
    }
   ],
   "source": [
    "df[df['Stamina'].isnull()].shape"
   ]
  },
  {
   "cell_type": "markdown",
   "metadata": {
    "colab_type": "text",
    "id": "dmwRNH4WoTqY"
   },
   "source": [
    "## 2. Кодирование категориальных признаков"
   ]
  },
  {
   "cell_type": "code",
   "execution_count": 56,
   "metadata": {
    "colab": {
     "base_uri": "https://localhost:8080/",
     "height": 765
    },
    "colab_type": "code",
    "id": "RLBpj9IOoKWy",
    "outputId": "08370a71-5f96-48c2-d542-694fa68d3c66"
   },
   "outputs": [
    {
     "name": "stdout",
     "output_type": "stream",
     "text": [
      "Name\n",
      "Photo\n",
      "Nationality\n",
      "Flag\n",
      "Club\n",
      "Club Logo\n",
      "Value\n",
      "Wage\n",
      "Preferred Foot\n",
      "Work Rate\n",
      "Body Type\n",
      "Real Face\n",
      "Position\n",
      "Joined\n",
      "Contract Valid Until\n",
      "Height\n",
      "Weight\n",
      "LS\n",
      "ST\n",
      "RS\n",
      "LW\n",
      "LF\n",
      "CF\n",
      "RF\n",
      "RW\n",
      "LAM\n",
      "CAM\n",
      "RAM\n",
      "LM\n",
      "LCM\n",
      "CM\n",
      "RCM\n",
      "RM\n",
      "LWB\n",
      "LDM\n",
      "CDM\n",
      "RDM\n",
      "RWB\n",
      "LB\n",
      "LCB\n",
      "CB\n",
      "RCB\n",
      "RB\n",
      "Release Clause\n"
     ]
    }
   ],
   "source": [
    "for col in df.columns:\n",
    "    column_type = df[col].dtype\n",
    "    if column_type == 'object':\n",
    "        print(col)"
   ]
  },
  {
   "cell_type": "markdown",
   "metadata": {
    "colab_type": "text",
    "id": "ngc1Ky-BofSr"
   },
   "source": [
    "### 2.1 Кодирование категорий целочисленными значениями"
   ]
  },
  {
   "cell_type": "code",
   "execution_count": 64,
   "metadata": {
    "colab": {
     "base_uri": "https://localhost:8080/",
     "height": 1000
    },
    "colab_type": "code",
    "id": "Bl83g73VoeoH",
    "outputId": "5cb39dc2-8a34-4bb2-d4be-581c901ac85a"
   },
   "outputs": [
    {
     "data": {
      "text/plain": [
       "array(['FC Barcelona', 'Juventus', 'Paris Saint-Germain',\n",
       "       'Manchester United', 'Manchester City', 'Chelsea', 'Real Madrid',\n",
       "       'Atlético Madrid', 'FC Bayern München', 'Tottenham Hotspur',\n",
       "       'Liverpool', 'Napoli', 'Arsenal', 'Milan', 'Inter', 'Lazio',\n",
       "       'Borussia Dortmund', 'Vissel Kobe', 'Olympique Lyonnais', 'Roma',\n",
       "       'Valencia CF', 'Guangzhou Evergrande Taobao FC', 'FC Porto',\n",
       "       'FC Schalke 04', 'Beşiktaş JK', 'LA Galaxy', 'Sporting CP',\n",
       "       'Real Betis', 'Olympique de Marseille', 'RC Celta',\n",
       "       'Bayer 04 Leverkusen', 'Real Sociedad', 'Villarreal CF',\n",
       "       'Sevilla FC', 'SL Benfica', 'AS Saint-Étienne', 'AS Monaco',\n",
       "       'Leicester City', 'Atalanta', 'Grêmio', 'Atlético Mineiro',\n",
       "       'RB Leipzig', 'Ajax', 'Dalian YiFang FC', 'Everton',\n",
       "       'West Ham United', '1. FC Köln', 'TSG 1899 Hoffenheim',\n",
       "       'Shanghai SIPG FC', 'OGC Nice', 'Al Nassr',\n",
       "       'Wolverhampton Wanderers', 'Borussia Mönchengladbach',\n",
       "       'Hertha BSC', 'SV Werder Bremen', 'Cruzeiro',\n",
       "       'Athletic Club de Bilbao', 'Torino', 'Medipol Başakşehir FK',\n",
       "       'Beijing Sinobo Guoan FC', 'Crystal Palace', 'PFC CSKA Moscow',\n",
       "       'VfL Wolfsburg', 'Shakhtar Donetsk', 'Toronto FC',\n",
       "       'Lokomotiv Moscow', 'Sassuolo', 'New York City FC', 'Fluminense',\n",
       "       'PSV', 'Levante UD', 'Fulham', 'Watford', 'Atlanta United',\n",
       "       'Montpellier HSC', 'Galatasaray SK', 'Fenerbahçe SK', 'SD Eibar',\n",
       "       'Los Angeles FC', 'Sampdoria', 'Al Hilal', 'VfB Stuttgart',\n",
       "       'SC Braga', 'River Plate', 'Deportivo Alavés',\n",
       "       'Eintracht Frankfurt', 'Girona FC', 'Guangzhou R&F; FC', 'Burnley',\n",
       "       'Stoke City', 'Southampton', 'Tianjin Quanjian FC', 'Getafe CF',\n",
       "       'Beijing Renhe FC', 'Montreal Impact', 'Chievo Verona', 'Genoa',\n",
       "       'Portland Timbers', 'Tigres U.A.N.L.', 'RCD Espanyol',\n",
       "       'Hebei China Fortune FC', 'Cagliari', 'Chicago Fire', 'DC United',\n",
       "       'Sagan Tosu', 'Dynamo Kyiv', 'Santos', 'Internacional',\n",
       "       'América FC (Minas Gerais)', 'Independiente', 'Boca Juniors',\n",
       "       'Cruz Azul', '1. FSV Mainz 05', 'Bournemouth', 'Spartak Moscow',\n",
       "       'Racing Club', 'FC Augsburg', 'Fiorentina', 'FC Nantes',\n",
       "       'Feyenoord', 'Club Brugge KV', 'Brighton & Hove Albion', 'Al Ahli',\n",
       "       'Jiangsu Suning FC', 'SC Freiburg', 'PAOK', 'Stade Rennais FC',\n",
       "       'Trabzonspor', 'SPAL', 'Portimonense SC', 'Olympiacos CFP',\n",
       "       'Club Atlético Huracán', 'Kasimpaşa SK', 'Newcastle United',\n",
       "       'Frosinone', 'Querétaro', 'KRC Genk', 'Hannover 96',\n",
       "       'Stade Malherbe Caen', 'Godoy Cruz', 'Toulouse Football Club',\n",
       "       'RSC Anderlecht', 'Huddersfield Town', 'CD Tondela',\n",
       "       'Seattle Sounders FC', 'Hamburger SV', 'FC Red Bull Salzburg',\n",
       "       'Rio Ave FC', 'FC Girondins de Bordeaux', 'Melbourne Victory',\n",
       "       'Parma', 'FC Basel 1893', 'Al Wehda', 'BSC Young Boys', 'KAA Gent',\n",
       "       'Al Ittihad', 'Standard de Liège', 'Shanghai Greenland Shenhua FC',\n",
       "       'Colo-Colo', 'Junior FC', 'West Bromwich Albion',\n",
       "       'RC Strasbourg Alsace', 'Göztepe SK', 'Deportivo Cali',\n",
       "       'Deportivo Toluca', 'Bologna', 'Nagoya Grampus', 'Amiens SC',\n",
       "       'Changchun Yatai FC', 'Club Atlético Lanús', 'Botafogo',\n",
       "       'Club América', 'Udinese', 'Real Valladolid CF', 'CD Leganés',\n",
       "       'Club Atlético Banfield', 'Celtic', 'Vitória Guimarães',\n",
       "       'FC København', 'UD Las Palmas', 'Deportivo de La Coruña',\n",
       "       'Universidad Católica', 'San Lorenzo de Almagro', 'Rayo Vallecano',\n",
       "       'Monterrey', 'Columbus Crew SC', 'MKE Ankaragücü',\n",
       "       'Guizhou Hengfeng FC', 'Swansea City', 'Tianjin TEDA FC',\n",
       "       'Chongqing Dangdai Lifan FC SWM Team', 'AEK Athens', 'Al Taawoun',\n",
       "       'Melbourne City FC', 'En Avant de Guingamp',\n",
       "       'Akhisar Belediyespor', 'Foggia', 'LOSC Lille', '1. FC Nürnberg',\n",
       "       'Clube Sport Marítimo', 'Real Sporting de Gijón', 'BB Erzurumspor',\n",
       "       'Shandong Luneng TaiShan FC', 'Club Atlético Colón', 'Bahia',\n",
       "       'Once Caldas', 'FC Groningen', 'Angers SCO', 'Paraná',\n",
       "       'Antalyaspor', 'Minnesota United FC', 'Club León', 'Empoli',\n",
       "       'VVV-Venlo', 'Leeds United', 'Viktoria Plzeň', 'Alanyaspor',\n",
       "       'Atlético Paranaense', 'Derby County', 'Kawasaki Frontale',\n",
       "       'Cardiff City', 'Aston Villa', 'Guadalajara', 'Dijon FCO',\n",
       "       'Santos Laguna', 'Málaga CF', 'Vitória', 'Çaykur Rizespor',\n",
       "       'U.N.A.M.', 'Nottingham Forest', 'Royal Antwerp FC',\n",
       "       'Club Tijuana', 'Sport Club do Recife', 'Real Salt Lake',\n",
       "       'AZ Alkmaar', 'SK Slavia Praha', 'Willem II', 'Middlesbrough',\n",
       "       'Dinamo Zagreb', 'Club Atlas', 'Granada CF', 'Sydney FC',\n",
       "       'Sporting Kansas City', 'SV Zulte-Waregem', 'Philadelphia Union',\n",
       "       'Real Oviedo', 'Pachuca', 'Boavista FC', 'Atiker Konyaspor',\n",
       "       'Kaizer Chiefs', 'GD Chaves', 'Palermo', 'Atlético Nacional',\n",
       "       'Puebla FC', 'Perth Glory', 'Panathinaikos FC', 'FC Sion',\n",
       "       'Vitória de Setúbal', 'New York Red Bulls', 'Al Shabab',\n",
       "       'Monarcas Morelia', 'Albacete BP', 'Rangers FC', 'Sparta Praha',\n",
       "       'Legia Warszawa', 'Urawa Red Diamonds', 'Rosario Central',\n",
       "       'Stade de Reims', 'ADO Den Haag', 'Chapecoense', 'FC Midtjylland',\n",
       "       'San Jose Earthquakes', 'Belgrano de Córdoba', 'Brescia',\n",
       "       'Kashima Antlers', 'CD Everton de Viña del Mar',\n",
       "       'Fortuna Düsseldorf', 'SD Huesca', 'Preston North End',\n",
       "       'Club Atlético Talleres', 'Benevento', 'Vitesse',\n",
       "       'Gimnasia y Esgrima La Plata', 'Houston Dynamo', 'Club Necaxa',\n",
       "       'Norwich City', 'Holstein Kiel', 'Ettifaq FC', 'Kayserispor',\n",
       "       '1. FC Heidenheim 1846', 'Brentford', 'Yeni Malatyaspor',\n",
       "       'Lobos BUAP', 'Bursaspor', 'Ceará Sporting Club',\n",
       "       'Sheffield United', 'FC Ingolstadt 04', 'Estudiantes de La Plata',\n",
       "       'AIK', 'Queens Park Rangers', 'Suwon Samsung Bluewings',\n",
       "       'Heart of Midlothian', 'Reading', 'FC Dallas', 'Heracles Almelo',\n",
       "       'Venezia FC', 'CD Lugo', 'Henan Jianye FC', 'Orlando City SC',\n",
       "       'CA Osasuna', 'NAC Breda', 'Livorno', 'Universidad de Chile',\n",
       "       'Brøndby IF', 'Aberdeen', 'Defensa y Justicia', 'Atlético Tucumán',\n",
       "       'Blackburn Rovers', 'SV Darmstadt 98', 'Moreirense FC',\n",
       "       'Sanfrecce Hiroshima', 'CD Numancia', 'KV Oostende', 'FC Utrecht',\n",
       "       'Vancouver Whitecaps FC', 'Odense Boldklub', 'SC Heerenveen',\n",
       "       'Racing Club de Lens', 'Independiente Santa Fe',\n",
       "       'Sporting de Charleroi', 'Millonarios FC', 'Sheffield Wednesday',\n",
       "       'Perugia', 'Daegu FC', 'Vélez Sarsfield',\n",
       "       'Grasshopper Club Zürich', 'Sivasspor', 'Nîmes Olympique',\n",
       "       'Rosenborg BK', 'SK Sturm Graz', 'FC Metz',\n",
       "       'CD Universidad de Concepción', 'Hellas Verona', 'Brisbane Roar',\n",
       "       'CD Feirense', 'Hull City', 'Waasland-Beveren', 'Neuchâtel Xamax',\n",
       "       'Real Zaragoza', 'CD Aves', 'Millwall', 'Unión de Santa Fe',\n",
       "       'KAS Eupen', 'Cádiz CF', 'FC Tokyo', 'CD Tenerife',\n",
       "       '1. FC Union Berlin', 'Al Fayha', 'AJ Auxerre',\n",
       "       'Patriotas Boyacá FC', 'Molde FK', 'Bristol City', 'CD Nacional',\n",
       "       'Sporting Lokeren', 'FC St. Pauli', 'Deportes Iquique',\n",
       "       'Al Qadisiyah', 'Atlético Bucaramanga', 'Club Atlético Tigre',\n",
       "       'FK Austria Wien', 'Patronato', 'Malmö FF', 'Kashiwa Reysol',\n",
       "       'US Cremonese', 'VfL Bochum 1848', 'SK Rapid Wien',\n",
       "       'KSV Cercle Brugge', 'Rionegro Águilas', 'Gimnàstic de Tarragona',\n",
       "       'Lecce', 'Santa Clara', 'BK Häcken', 'New England Revolution',\n",
       "       'Orlando Pirates', 'Atlético Huila', 'Western Sydney Wanderers',\n",
       "       'Kalmar FF', 'Independiente Medellín', 'Fortuna Sittard',\n",
       "       'Lech Poznań', 'Djurgårdens IF', 'CF Reus Deportiu', 'SK Brann',\n",
       "       'Ulsan Hyundai FC', 'Sint-Truidense VV', 'Carpi', 'Al Fateh',\n",
       "       'Royal Excel Mouscron', 'AC Ajaccio', 'PEC Zwolle', 'Sunderland',\n",
       "       'Club Atlético Aldosivi', 'US Salernitana 1919', 'FC Lorient',\n",
       "       'Argentinos Juniors', 'AD Alcorcón', 'Crotone', 'Excelsior',\n",
       "       'KV Kortrijk', 'IFK Norrköping', 'Adelaide United',\n",
       "       'FC St. Gallen', 'Tiburones Rojos de Veracruz', 'CD Palestino',\n",
       "       'Jeju United FC', 'Deportes Tolima', 'Jeonbuk Hyundai Motors',\n",
       "       'Birmingham City', 'América de Cali', 'La Equidad', 'Spezia',\n",
       "       'Aalborg BK', 'Le Havre AC', 'Górnik Zabrze',\n",
       "       'Central Coast Mariners', 'Wigan Athletic',\n",
       "       'Jagiellonia Białystok', 'Cittadella', 'Hibernian', 'FC Lugano',\n",
       "       'San Martín de San Juan', 'Strømsgodset IF', 'Júbilo Iwata',\n",
       "       \"Newell's Old Boys\", 'Al Faisaly', 'Colorado Rapids',\n",
       "       'IF Elfsborg', 'SV Sandhausen', 'Al Batin', 'Stade Brestois 29',\n",
       "       'UD Almería', 'Gyeongnam FC', 'Yokohama F. Marinos', 'Kilmarnock',\n",
       "       'Pescara', 'Newcastle Jets', 'Córdoba CF', 'RCD Mallorca',\n",
       "       'Hammarby IF', 'Cerezo Osaka', 'KFC Uerdingen 05',\n",
       "       'Shimizu S-Pulse', 'MSV Duisburg', 'Os Belenenses',\n",
       "       'DSC Arminia Bielefeld', 'Ipswich Town', 'FC Seoul',\n",
       "       'Lechia Gdańsk', 'Gamba Osaka', 'CF Rayo Majadahonda', 'LASK Linz',\n",
       "       'Bolton Wanderers', 'Al Raed', 'Extremadura UD', 'SC Paderborn 07',\n",
       "       'Wellington Phoenix', 'Unión Española', 'Alianza Petrolera',\n",
       "       'Cracovia', 'Gangwon FC', 'Elche CF', 'ESTAC Troyes', 'AS Béziers',\n",
       "       'La Berrichonne de Châteauroux', 'Clermont Foot 63',\n",
       "       '1. FC Magdeburg', 'Pohang Steelers', 'Örebro SK', 'Arka Gdynia',\n",
       "       'SG Dynamo Dresden', 'SpVgg Greuther Fürth', 'CD Huachipato',\n",
       "       'Wisła Kraków', 'Stabæk Fotball', 'Eintracht Braunschweig',\n",
       "       'Valenciennes FC', 'FC Thun', 'San Luis de Quillota',\n",
       "       ' SSV Jahn Regensburg', 'Cosenza', 'FC Nordsjælland',\n",
       "       'FC Erzgebirge Aue', 'Jeonnam Dragons', 'Wolfsberger AC',\n",
       "       'Chamois Niortais Football Club', 'Club Deportes Temuco',\n",
       "       'AS Nancy Lorraine', 'Red Star FC', 'Al Hazem', 'Pogoń Szczecin',\n",
       "       'Charlton Athletic', 'Grenoble Foot 38', 'FC Hansa Rostock',\n",
       "       'San Martin de Tucumán', 'Incheon United FC', 'Śląsk Wrocław',\n",
       "       'GFC Ajaccio', '1. FC Kaiserslautern', 'Deportivo Pasto',\n",
       "       'Lincoln City', 'Motherwell', 'Rotherham United', 'Burton Albion',\n",
       "       'Wisła Płock', 'FC Wacker Innsbruck', 'Peterborough United',\n",
       "       'Ascoli', 'FC Zürich', 'Fleetwood Town', 'Padova',\n",
       "       'FC Sochaux-Montbéliard', 'SV Wehen Wiesbaden', 'Unión La Calera',\n",
       "       'Scunthorpe United', \"CD O'Higgins\", 'CD Antofagasta',\n",
       "       'Plymouth Argyle', 'Aarhus GF', 'Lillestrøm SK', 'Karlsruher SC',\n",
       "       'GIF Sundsvall', 'FC Emmen', 'Barnsley', 'Audax Italiano',\n",
       "       'V-Varen Nagasaki', 'Paris FC', 'SpVgg Unterhaching', 'Hobro IK',\n",
       "       'De Graafschap', 'Hokkaido Consadole Sapporo', 'Tromsø IL',\n",
       "       'FC Luzern', 'FK Haugesund', 'Zagłębie Lubin', 'VfR Aalen',\n",
       "       'Dundalk', 'Oxford United', 'Piast Gliwice', 'Ohod Club',\n",
       "       'Östersunds FK', 'Vegalta Sendai', 'Crawley Town',\n",
       "       'FC Admira Wacker Mödling', 'Vålerenga Fotball', 'Dundee FC',\n",
       "       'Portsmouth', 'Envigado FC', 'Miedź Legnica', 'Odds BK',\n",
       "       'SC Fortuna Köln', 'US Orléans Loiret Football', 'Sarpsborg 08 FF',\n",
       "       'Jaguares de Córdoba', 'Bradford City', 'Accrington Stanley',\n",
       "       'St. Johnstone FC', 'Boyacá Chicó FC', 'Luton Town',\n",
       "       'SV Mattersburg', 'Kristiansund BK', 'Sangju Sangmu FC',\n",
       "       'Rochdale', 'Walsall', 'Korona Kielce', 'Shonan Bellmare',\n",
       "       'FC Würzburger Kickers', 'FSV Zwickau', 'St. Mirren', 'AC Horsens',\n",
       "       'Esbjerg fB', 'HJK Helsinki', 'Southend United', 'Bristol Rovers',\n",
       "       'Hamilton Academical FC', 'TSV 1860 München', 'Curicó Unido',\n",
       "       'SCR Altach', 'Ranheim Fotball', 'Stevenage',\n",
       "       'SG Sonnenhof Großaspach', 'Oldham Athletic', 'Milton Keynes Dons',\n",
       "       'FK Bodø/Glimt', 'SC Preußen Münster', 'Wycombe Wanderers',\n",
       "       'Vejle Boldklub', 'Bury', 'Randers FC', 'VfL Osnabrück',\n",
       "       'SønderjyskE', 'IFK Göteborg', 'Mansfield Town', 'Coventry City',\n",
       "       'Waterford FC', 'Shrewsbury', 'IK Start', 'Gillingham',\n",
       "       'FC Energie Cottbus', 'FC Carl Zeiss Jena', 'Hallescher FC',\n",
       "       'SV Meppen', 'AFC Wimbledon', 'Blackpool', 'Doncaster Rovers',\n",
       "       'Sandefjord Fotball', 'VfL Sportfreunde Lotte', 'Cheltenham Town',\n",
       "       'IK Sirius', 'Vendsyssel FF', 'Swindon Town', 'Notts County',\n",
       "       'SKN St. Pölten', 'Exeter City', 'Northampton Town',\n",
       "       'Shamrock Rovers', 'Colchester United', 'Livingston FC',\n",
       "       'TSV Hartberg', 'Tranmere Rovers', 'Cambridge United',\n",
       "       'Grimsby Town', 'Port Vale', 'Itagüí Leones FC',\n",
       "       'Forest Green Rovers', 'Dalkurd FF', 'Zagłębie Sosnowiec',\n",
       "       'Carlisle United', 'Trelleborgs FF', \"St. Patrick's Athletic\",\n",
       "       'Morecambe', 'Cork City', 'IF Brommapojkarna', 'Crewe Alexandra',\n",
       "       'Yeovil Town', 'Bohemian FC', 'Macclesfield Town',\n",
       "       'Newport County', 'Sligo Rovers', 'Derry City', 'Limerick FC',\n",
       "       'Bray Wanderers'], dtype=object)"
      ]
     },
     "execution_count": 64,
     "metadata": {
      "tags": []
     },
     "output_type": "execute_result"
    }
   ],
   "source": [
    "df['Club'].unique()"
   ]
  },
  {
   "cell_type": "code",
   "execution_count": 0,
   "metadata": {
    "colab": {},
    "colab_type": "code",
    "id": "-wLvx736o9qr"
   },
   "outputs": [],
   "source": [
    "le = LabelEncoder()\n",
    "df['Club_LabelEncoder'] = le.fit_transform(df['Club'])"
   ]
  },
  {
   "cell_type": "code",
   "execution_count": 79,
   "metadata": {
    "colab": {
     "base_uri": "https://localhost:8080/",
     "height": 884
    },
    "colab_type": "code",
    "id": "n_9aTb5prfNC",
    "outputId": "e6d285e6-0c95-4a58-846b-b69fce2e5f60"
   },
   "outputs": [
    {
     "data": {
      "text/plain": [
       "array([212, 326, 435, 375, 374, 134, 470,  61, 214, 583, 363, 398,  52,\n",
       "       382, 315, 351,  86, 620, 418, 482, 605, 280, 232, 234,  77, 346,\n",
       "       552, 469, 419, 457,  72, 473, 619, 530, 504,  19,  17, 358,  55,\n",
       "       278,  62, 456,  26, 176, 206, 633,   3, 574, 535, 412,  36, 640,\n",
       "        87, 297, 511, 168,  56, 581, 377,  74, 169, 427, 616, 531, 582,\n",
       "       367, 527, 401, 254, 428, 359, 260, 630,  58, 390, 264, 250, 495,\n",
       "       368, 514,  34, 612, 488, 480, 182, 198, 272, 281, 100, 566, 544,\n",
       "       577, 268,  73, 391, 137, 267, 450, 580, 459, 293, 121, 136, 173,\n",
       "       513, 195, 524, 316,  46, 312,  82, 167,   7,  89, 549, 462, 211,\n",
       "       252, 230, 251, 150,  95,  28, 324, 490, 425, 562, 585, 505, 449,\n",
       "       417, 146, 340, 404, 259, 455, 331, 291, 561, 273, 584, 461, 303,\n",
       "       117, 529, 288, 233, 478, 220, 379, 436, 213,  41,  69, 328,  35,\n",
       "       564, 534, 157, 325, 632, 458, 285, 183, 185,  84, 397,  45, 131,\n",
       "       147,  88, 141, 595, 475, 110, 144, 127, 623, 224, 591, 186, 597,\n",
       "       516, 467, 389, 159, 370, 282, 570, 578, 138,  12,  40, 378, 201,\n",
       "        27, 255, 348,   5, 155, 474,  67, 533, 145,  70, 420, 221,  48,\n",
       "       433,  49, 386, 152, 200, 604, 356, 618,  42,  64, 187, 341, 123,\n",
       "        54, 279, 189, 525, 395, 622, 647, 589, 409, 486, 154, 551, 472,\n",
       "        20, 501, 636, 380, 190, 142, 274, 572, 553, 512, 443, 471, 429,\n",
       "        81,  57, 335, 261, 431,  63, 453, 439, 432, 236, 624, 402,  39,\n",
       "       388,  43, 465, 548, 357, 602, 483, 563,  11, 132, 229, 515,  75,\n",
       "        94, 338, 107, 257, 496, 452, 148,  76, 621, 270, 302, 153, 408,\n",
       "       301, 205, 342,   1,  93, 642, 366, 101, 126, 536, 223, 204,  14,\n",
       "       454, 569, 292, 468, 216, 296, 611, 111, 295, 421, 104, 396, 365,\n",
       "       598,  99,  23, 179,  65,  79, 506, 393, 521, 113, 334, 242, 607,\n",
       "       414, 491, 463, 314, 555, 383, 537, 440, 175, 626, 275, 542, 411,\n",
       "       484, 502, 228, 118, 294,  96, 108, 304, 627, 399, 476, 106, 384,\n",
       "       601, 329, 171, 241, 116,   6,  32,  15, 437, 387,  97, 112, 554,\n",
       "       239, 180,  37,  59, 149, 246, 438, 373, 339, 592, 613, 500, 332,\n",
       "       479, 271, 353, 523,  68, 400, 422,  60, 634, 336, 313, 258, 354,\n",
       "       191, 120, 499, 596, 541, 125,  31, 487,   8, 426, 568, 143, 594,\n",
       "       225,  50,  10, 166, 207, 333, 308,  25, 238, 579, 115, 321, 181,\n",
       "       322,  78,  47, 350, 550,  21, 352, 284, 128, 635, 319, 139, 298,\n",
       "       226, 519, 567, 327, 405,  30, 158, 306, 509,  29, 560, 590, 283,\n",
       "       644, 343, 441, 403, 172, 460, 290, 129, 330, 538, 371, 423, 174,\n",
       "       317, 235, 355, 265, 119, 347,  85,  38, 209, 492, 631, 599,  44,\n",
       "       163, 266, 199, 196,  16, 349, 140,   4, 447, 648,  51, 497, 546,\n",
       "       109, 637, 559, 197, 606, 240, 517,   0, 161, 231, 219, 323, 639,\n",
       "       130, 151,  18, 477,  33, 446, 133, 276, 222, 518, 311, 650, 262,\n",
       "         2, 184, 362, 394, 485, 102, 638, 243, 442,  53, 245, 253, 430,\n",
       "       237, 510, 600, 528, 114, 105, 445,  22, 360, 337, 263, 217,  71,\n",
       "        66, 603, 434, 547, 299, 178, 300, 588, 227, 248, 645, 617, 193,\n",
       "       424, 444, 415, 649, 608, 164, 210, 625, 194, 451, 202, 381, 413,\n",
       "       489, 593, 526, 320,  91,  24, 556,  90, 369, 507, 345, 522, 481,\n",
       "       628, 344, 539, 244, 249, 557,   9, 203, 286, 545,  98, 289, 575,\n",
       "       170, 494, 466, 565, 498, 416, 385, 247, 493, 641, 609, 103, 464,\n",
       "       614, 573, 307, 376, 162, 629, 540, 310, 269, 218, 215, 287, 508,\n",
       "        13,  80, 192, 520, 615, 135, 309, 610, 571, 410, 503, 208, 407,\n",
       "       532, 156, 364, 576, 586, 122, 277, 448, 318, 256, 177, 646, 124,\n",
       "       587, 558, 392, 160, 305, 165, 643,  83, 372, 406, 543, 188, 361,\n",
       "        92])"
      ]
     },
     "execution_count": 79,
     "metadata": {
      "tags": []
     },
     "output_type": "execute_result"
    }
   ],
   "source": [
    "df['Club_LabelEncoder'].unique()"
   ]
  },
  {
   "cell_type": "code",
   "execution_count": 81,
   "metadata": {
    "colab": {
     "base_uri": "https://localhost:8080/",
     "height": 34
    },
    "colab_type": "code",
    "id": "Js6MRK7IqyMd",
    "outputId": "4c6d2646-691a-4e2d-d034-ae628c194c69"
   },
   "outputs": [
    {
     "data": {
      "text/plain": [
       "array(['FC Barcelona', 'IF Brommapojkarna'], dtype=object)"
      ]
     },
     "execution_count": 81,
     "metadata": {
      "tags": []
     },
     "output_type": "execute_result"
    }
   ],
   "source": [
    "le.inverse_transform([212, 305])"
   ]
  },
  {
   "cell_type": "code",
   "execution_count": 83,
   "metadata": {
    "colab": {
     "base_uri": "https://localhost:8080/",
     "height": 204
    },
    "colab_type": "code",
    "id": "trz7YqavrDkW",
    "outputId": "6fafccc9-3d87-4367-836e-f97e3f4e5395"
   },
   "outputs": [
    {
     "data": {
      "text/html": [
       "<div>\n",
       "<style scoped>\n",
       "    .dataframe tbody tr th:only-of-type {\n",
       "        vertical-align: middle;\n",
       "    }\n",
       "\n",
       "    .dataframe tbody tr th {\n",
       "        vertical-align: top;\n",
       "    }\n",
       "\n",
       "    .dataframe thead th {\n",
       "        text-align: right;\n",
       "    }\n",
       "</style>\n",
       "<table border=\"1\" class=\"dataframe\">\n",
       "  <thead>\n",
       "    <tr style=\"text-align: right;\">\n",
       "      <th></th>\n",
       "      <th>Club</th>\n",
       "      <th>Club_LabelEncoder</th>\n",
       "    </tr>\n",
       "  </thead>\n",
       "  <tbody>\n",
       "    <tr>\n",
       "      <th>0</th>\n",
       "      <td>FC Barcelona</td>\n",
       "      <td>212</td>\n",
       "    </tr>\n",
       "    <tr>\n",
       "      <th>1</th>\n",
       "      <td>Juventus</td>\n",
       "      <td>326</td>\n",
       "    </tr>\n",
       "    <tr>\n",
       "      <th>2</th>\n",
       "      <td>Paris Saint-Germain</td>\n",
       "      <td>435</td>\n",
       "    </tr>\n",
       "    <tr>\n",
       "      <th>3</th>\n",
       "      <td>Manchester United</td>\n",
       "      <td>375</td>\n",
       "    </tr>\n",
       "    <tr>\n",
       "      <th>4</th>\n",
       "      <td>Manchester City</td>\n",
       "      <td>374</td>\n",
       "    </tr>\n",
       "  </tbody>\n",
       "</table>\n",
       "</div>"
      ],
      "text/plain": [
       "                  Club  Club_LabelEncoder\n",
       "0         FC Barcelona                212\n",
       "1             Juventus                326\n",
       "2  Paris Saint-Germain                435\n",
       "3    Manchester United                375\n",
       "4      Manchester City                374"
      ]
     },
     "execution_count": 83,
     "metadata": {
      "tags": []
     },
     "output_type": "execute_result"
    }
   ],
   "source": [
    "df[['Club','Club_LabelEncoder']].head()"
   ]
  },
  {
   "cell_type": "markdown",
   "metadata": {
    "colab_type": "text",
    "id": "Mlk-8n7Pryj_"
   },
   "source": [
    "### 2.2. Кодирование категорий наборами бинарных значений"
   ]
  },
  {
   "cell_type": "code",
   "execution_count": 94,
   "metadata": {
    "colab": {
     "base_uri": "https://localhost:8080/",
     "height": 68
    },
    "colab_type": "code",
    "id": "vPmxA7lMr4xA",
    "outputId": "9b1dece2-6006-4848-dd0f-36a91881356a"
   },
   "outputs": [
    {
     "data": {
      "text/plain": [
       "array(['RF', 'ST', 'LW', 'GK', 'RCM', 'LF', 'RS', 'RCB', 'LCM', 'CB',\n",
       "       'LDM', 'CAM', 'CDM', 'LS', 'LCB', 'RM', 'LAM', 'LM', 'LB', 'RDM',\n",
       "       'RW', 'CM', 'RB', 'RAM', 'CF', 'RWB', 'LWB', nan], dtype=object)"
      ]
     },
     "execution_count": 94,
     "metadata": {
      "tags": []
     },
     "output_type": "execute_result"
    }
   ],
   "source": [
    "df['Position'].unique()"
   ]
  },
  {
   "cell_type": "code",
   "execution_count": 99,
   "metadata": {
    "colab": {
     "base_uri": "https://localhost:8080/",
     "height": 221
    },
    "colab_type": "code",
    "id": "FbXnVqu3sj1Q",
    "outputId": "38f1bf2a-96f0-4cbe-9215-5549c5b5564d"
   },
   "outputs": [
    {
     "data": {
      "text/plain": [
       "0         RF\n",
       "1         ST\n",
       "2         LW\n",
       "3         GK\n",
       "4        RCM\n",
       "        ... \n",
       "18202     CM\n",
       "18203     ST\n",
       "18204     ST\n",
       "18205     RW\n",
       "18206     CM\n",
       "Name: Position, Length: 17966, dtype: object"
      ]
     },
     "execution_count": 99,
     "metadata": {
      "tags": []
     },
     "output_type": "execute_result"
    }
   ],
   "source": [
    "# Импьютация наиболее частыми значениями\n",
    "imp = SimpleImputer(missing_values=np.nan, strategy='most_frequent')\n",
    "df['Position'] = imp2.fit_transform(df[['Position']])\n",
    "\n",
    "df['Position']"
   ]
  },
  {
   "cell_type": "code",
   "execution_count": 100,
   "metadata": {
    "colab": {
     "base_uri": "https://localhost:8080/",
     "height": 68
    },
    "colab_type": "code",
    "id": "nHujzcUStJkP",
    "outputId": "c513422f-ddcf-4ef9-bb99-78ccdf236c50"
   },
   "outputs": [
    {
     "data": {
      "text/plain": [
       "array(['CAM', 'CB', 'CDM', 'CF', 'CM', 'GK', 'LAM', 'LB', 'LCB', 'LCM',\n",
       "       'LDM', 'LF', 'LM', 'LS', 'LW', 'LWB', 'RAM', 'RB', 'RCB', 'RCM',\n",
       "       'RDM', 'RF', 'RM', 'RS', 'RW', 'RWB', 'ST'], dtype=object)"
      ]
     },
     "execution_count": 100,
     "metadata": {
      "tags": []
     },
     "output_type": "execute_result"
    }
   ],
   "source": [
    "# Пустые значения отсутствуют\n",
    "np.unique(df['Position'])"
   ]
  },
  {
   "cell_type": "code",
   "execution_count": 0,
   "metadata": {
    "colab": {},
    "colab_type": "code",
    "id": "V08CjUAVr8XK"
   },
   "outputs": [],
   "source": [
    "ohe = OneHotEncoder()\n",
    "transformed_data = ohe.fit_transform(df[['Position']])"
   ]
  },
  {
   "cell_type": "code",
   "execution_count": 102,
   "metadata": {
    "colab": {
     "base_uri": "https://localhost:8080/",
     "height": 34
    },
    "colab_type": "code",
    "id": "yNEOP4IUtz8j",
    "outputId": "ed5e255e-85c9-40e0-ee2c-7e3f5ef50de4"
   },
   "outputs": [
    {
     "data": {
      "text/plain": [
       "(17966, 27)"
      ]
     },
     "execution_count": 102,
     "metadata": {
      "tags": []
     },
     "output_type": "execute_result"
    }
   ],
   "source": [
    "transformed_data.shape"
   ]
  },
  {
   "cell_type": "code",
   "execution_count": 103,
   "metadata": {
    "colab": {
     "base_uri": "https://localhost:8080/",
     "height": 357
    },
    "colab_type": "code",
    "id": "vCUN6f1ft2wS",
    "outputId": "316ca189-5178-436a-d6e1-cf64e827f0a1"
   },
   "outputs": [
    {
     "data": {
      "text/plain": [
       "matrix([[0., 0., 0., 0., 0., 0., 0., 0., 0., 0., 0., 0., 0., 0., 0., 0.,\n",
       "         0., 0., 0., 0., 0., 1., 0., 0., 0., 0., 0.],\n",
       "        [0., 0., 0., 0., 0., 0., 0., 0., 0., 0., 0., 0., 0., 0., 0., 0.,\n",
       "         0., 0., 0., 0., 0., 0., 0., 0., 0., 0., 1.],\n",
       "        [0., 0., 0., 0., 0., 0., 0., 0., 0., 0., 0., 0., 0., 0., 1., 0.,\n",
       "         0., 0., 0., 0., 0., 0., 0., 0., 0., 0., 0.],\n",
       "        [0., 0., 0., 0., 0., 1., 0., 0., 0., 0., 0., 0., 0., 0., 0., 0.,\n",
       "         0., 0., 0., 0., 0., 0., 0., 0., 0., 0., 0.],\n",
       "        [0., 0., 0., 0., 0., 0., 0., 0., 0., 0., 0., 0., 0., 0., 0., 0.,\n",
       "         0., 0., 0., 1., 0., 0., 0., 0., 0., 0., 0.],\n",
       "        [0., 0., 0., 0., 0., 0., 0., 0., 0., 0., 0., 1., 0., 0., 0., 0.,\n",
       "         0., 0., 0., 0., 0., 0., 0., 0., 0., 0., 0.],\n",
       "        [0., 0., 0., 0., 0., 0., 0., 0., 0., 0., 0., 0., 0., 0., 0., 0.,\n",
       "         0., 0., 0., 1., 0., 0., 0., 0., 0., 0., 0.],\n",
       "        [0., 0., 0., 0., 0., 0., 0., 0., 0., 0., 0., 0., 0., 0., 0., 0.,\n",
       "         0., 0., 0., 0., 0., 0., 0., 1., 0., 0., 0.],\n",
       "        [0., 0., 0., 0., 0., 0., 0., 0., 0., 0., 0., 0., 0., 0., 0., 0.,\n",
       "         0., 0., 1., 0., 0., 0., 0., 0., 0., 0., 0.],\n",
       "        [0., 0., 0., 0., 0., 1., 0., 0., 0., 0., 0., 0., 0., 0., 0., 0.,\n",
       "         0., 0., 0., 0., 0., 0., 0., 0., 0., 0., 0.]])"
      ]
     },
     "execution_count": 103,
     "metadata": {
      "tags": []
     },
     "output_type": "execute_result"
    }
   ],
   "source": [
    "transformed_data.todense()[0:10]"
   ]
  },
  {
   "cell_type": "markdown",
   "metadata": {
    "colab_type": "text",
    "id": "Z26VRTGAt71Y"
   },
   "source": [
    "### 2.3 Pandas get_dummies"
   ]
  },
  {
   "cell_type": "code",
   "execution_count": 104,
   "metadata": {
    "colab": {
     "base_uri": "https://localhost:8080/",
     "height": 204
    },
    "colab_type": "code",
    "id": "OfHx18m-t6km",
    "outputId": "f4d0f40d-af88-434c-a678-8fc6735238d0"
   },
   "outputs": [
    {
     "data": {
      "text/html": [
       "<div>\n",
       "<style scoped>\n",
       "    .dataframe tbody tr th:only-of-type {\n",
       "        vertical-align: middle;\n",
       "    }\n",
       "\n",
       "    .dataframe tbody tr th {\n",
       "        vertical-align: top;\n",
       "    }\n",
       "\n",
       "    .dataframe thead th {\n",
       "        text-align: right;\n",
       "    }\n",
       "</style>\n",
       "<table border=\"1\" class=\"dataframe\">\n",
       "  <thead>\n",
       "    <tr style=\"text-align: right;\">\n",
       "      <th></th>\n",
       "      <th>CAM</th>\n",
       "      <th>CB</th>\n",
       "      <th>CDM</th>\n",
       "      <th>CF</th>\n",
       "      <th>CM</th>\n",
       "      <th>GK</th>\n",
       "      <th>LAM</th>\n",
       "      <th>LB</th>\n",
       "      <th>LCB</th>\n",
       "      <th>LCM</th>\n",
       "      <th>LDM</th>\n",
       "      <th>LF</th>\n",
       "      <th>LM</th>\n",
       "      <th>LS</th>\n",
       "      <th>LW</th>\n",
       "      <th>LWB</th>\n",
       "      <th>RAM</th>\n",
       "      <th>RB</th>\n",
       "      <th>RCB</th>\n",
       "      <th>RCM</th>\n",
       "      <th>RDM</th>\n",
       "      <th>RF</th>\n",
       "      <th>RM</th>\n",
       "      <th>RS</th>\n",
       "      <th>RW</th>\n",
       "      <th>RWB</th>\n",
       "      <th>ST</th>\n",
       "    </tr>\n",
       "  </thead>\n",
       "  <tbody>\n",
       "    <tr>\n",
       "      <th>0</th>\n",
       "      <td>0</td>\n",
       "      <td>0</td>\n",
       "      <td>0</td>\n",
       "      <td>0</td>\n",
       "      <td>0</td>\n",
       "      <td>0</td>\n",
       "      <td>0</td>\n",
       "      <td>0</td>\n",
       "      <td>0</td>\n",
       "      <td>0</td>\n",
       "      <td>0</td>\n",
       "      <td>0</td>\n",
       "      <td>0</td>\n",
       "      <td>0</td>\n",
       "      <td>0</td>\n",
       "      <td>0</td>\n",
       "      <td>0</td>\n",
       "      <td>0</td>\n",
       "      <td>0</td>\n",
       "      <td>0</td>\n",
       "      <td>0</td>\n",
       "      <td>1</td>\n",
       "      <td>0</td>\n",
       "      <td>0</td>\n",
       "      <td>0</td>\n",
       "      <td>0</td>\n",
       "      <td>0</td>\n",
       "    </tr>\n",
       "    <tr>\n",
       "      <th>1</th>\n",
       "      <td>0</td>\n",
       "      <td>0</td>\n",
       "      <td>0</td>\n",
       "      <td>0</td>\n",
       "      <td>0</td>\n",
       "      <td>0</td>\n",
       "      <td>0</td>\n",
       "      <td>0</td>\n",
       "      <td>0</td>\n",
       "      <td>0</td>\n",
       "      <td>0</td>\n",
       "      <td>0</td>\n",
       "      <td>0</td>\n",
       "      <td>0</td>\n",
       "      <td>0</td>\n",
       "      <td>0</td>\n",
       "      <td>0</td>\n",
       "      <td>0</td>\n",
       "      <td>0</td>\n",
       "      <td>0</td>\n",
       "      <td>0</td>\n",
       "      <td>0</td>\n",
       "      <td>0</td>\n",
       "      <td>0</td>\n",
       "      <td>0</td>\n",
       "      <td>0</td>\n",
       "      <td>1</td>\n",
       "    </tr>\n",
       "    <tr>\n",
       "      <th>2</th>\n",
       "      <td>0</td>\n",
       "      <td>0</td>\n",
       "      <td>0</td>\n",
       "      <td>0</td>\n",
       "      <td>0</td>\n",
       "      <td>0</td>\n",
       "      <td>0</td>\n",
       "      <td>0</td>\n",
       "      <td>0</td>\n",
       "      <td>0</td>\n",
       "      <td>0</td>\n",
       "      <td>0</td>\n",
       "      <td>0</td>\n",
       "      <td>0</td>\n",
       "      <td>1</td>\n",
       "      <td>0</td>\n",
       "      <td>0</td>\n",
       "      <td>0</td>\n",
       "      <td>0</td>\n",
       "      <td>0</td>\n",
       "      <td>0</td>\n",
       "      <td>0</td>\n",
       "      <td>0</td>\n",
       "      <td>0</td>\n",
       "      <td>0</td>\n",
       "      <td>0</td>\n",
       "      <td>0</td>\n",
       "    </tr>\n",
       "    <tr>\n",
       "      <th>3</th>\n",
       "      <td>0</td>\n",
       "      <td>0</td>\n",
       "      <td>0</td>\n",
       "      <td>0</td>\n",
       "      <td>0</td>\n",
       "      <td>1</td>\n",
       "      <td>0</td>\n",
       "      <td>0</td>\n",
       "      <td>0</td>\n",
       "      <td>0</td>\n",
       "      <td>0</td>\n",
       "      <td>0</td>\n",
       "      <td>0</td>\n",
       "      <td>0</td>\n",
       "      <td>0</td>\n",
       "      <td>0</td>\n",
       "      <td>0</td>\n",
       "      <td>0</td>\n",
       "      <td>0</td>\n",
       "      <td>0</td>\n",
       "      <td>0</td>\n",
       "      <td>0</td>\n",
       "      <td>0</td>\n",
       "      <td>0</td>\n",
       "      <td>0</td>\n",
       "      <td>0</td>\n",
       "      <td>0</td>\n",
       "    </tr>\n",
       "    <tr>\n",
       "      <th>4</th>\n",
       "      <td>0</td>\n",
       "      <td>0</td>\n",
       "      <td>0</td>\n",
       "      <td>0</td>\n",
       "      <td>0</td>\n",
       "      <td>0</td>\n",
       "      <td>0</td>\n",
       "      <td>0</td>\n",
       "      <td>0</td>\n",
       "      <td>0</td>\n",
       "      <td>0</td>\n",
       "      <td>0</td>\n",
       "      <td>0</td>\n",
       "      <td>0</td>\n",
       "      <td>0</td>\n",
       "      <td>0</td>\n",
       "      <td>0</td>\n",
       "      <td>0</td>\n",
       "      <td>0</td>\n",
       "      <td>1</td>\n",
       "      <td>0</td>\n",
       "      <td>0</td>\n",
       "      <td>0</td>\n",
       "      <td>0</td>\n",
       "      <td>0</td>\n",
       "      <td>0</td>\n",
       "      <td>0</td>\n",
       "    </tr>\n",
       "  </tbody>\n",
       "</table>\n",
       "</div>"
      ],
      "text/plain": [
       "   CAM  CB  CDM  CF  CM  GK  LAM  LB  ...  RCM  RDM  RF  RM  RS  RW  RWB  ST\n",
       "0    0   0    0   0   0   0    0   0  ...    0    0   1   0   0   0    0   0\n",
       "1    0   0    0   0   0   0    0   0  ...    0    0   0   0   0   0    0   1\n",
       "2    0   0    0   0   0   0    0   0  ...    0    0   0   0   0   0    0   0\n",
       "3    0   0    0   0   0   1    0   0  ...    0    0   0   0   0   0    0   0\n",
       "4    0   0    0   0   0   0    0   0  ...    1    0   0   0   0   0    0   0\n",
       "\n",
       "[5 rows x 27 columns]"
      ]
     },
     "execution_count": 104,
     "metadata": {
      "tags": []
     },
     "output_type": "execute_result"
    }
   ],
   "source": [
    "pd.get_dummies(df['Position']).head()"
   ]
  },
  {
   "cell_type": "code",
   "execution_count": 105,
   "metadata": {
    "colab": {
     "base_uri": "https://localhost:8080/",
     "height": 204
    },
    "colab_type": "code",
    "id": "b2oJ5pm8uDlH",
    "outputId": "44327cbb-c0ec-4eac-c6c3-75bc267f19cd"
   },
   "outputs": [
    {
     "data": {
      "text/html": [
       "<div>\n",
       "<style scoped>\n",
       "    .dataframe tbody tr th:only-of-type {\n",
       "        vertical-align: middle;\n",
       "    }\n",
       "\n",
       "    .dataframe tbody tr th {\n",
       "        vertical-align: top;\n",
       "    }\n",
       "\n",
       "    .dataframe thead th {\n",
       "        text-align: right;\n",
       "    }\n",
       "</style>\n",
       "<table border=\"1\" class=\"dataframe\">\n",
       "  <thead>\n",
       "    <tr style=\"text-align: right;\">\n",
       "      <th></th>\n",
       "      <th>CAM</th>\n",
       "      <th>CB</th>\n",
       "      <th>CDM</th>\n",
       "      <th>CF</th>\n",
       "      <th>CM</th>\n",
       "      <th>GK</th>\n",
       "      <th>LAM</th>\n",
       "      <th>LB</th>\n",
       "      <th>LCB</th>\n",
       "      <th>LCM</th>\n",
       "      <th>LDM</th>\n",
       "      <th>LF</th>\n",
       "      <th>LM</th>\n",
       "      <th>LS</th>\n",
       "      <th>LW</th>\n",
       "      <th>LWB</th>\n",
       "      <th>RAM</th>\n",
       "      <th>RB</th>\n",
       "      <th>RCB</th>\n",
       "      <th>RCM</th>\n",
       "      <th>RDM</th>\n",
       "      <th>RF</th>\n",
       "      <th>RM</th>\n",
       "      <th>RS</th>\n",
       "      <th>RW</th>\n",
       "      <th>RWB</th>\n",
       "      <th>ST</th>\n",
       "      <th>NaN</th>\n",
       "    </tr>\n",
       "  </thead>\n",
       "  <tbody>\n",
       "    <tr>\n",
       "      <th>0</th>\n",
       "      <td>0</td>\n",
       "      <td>0</td>\n",
       "      <td>0</td>\n",
       "      <td>0</td>\n",
       "      <td>0</td>\n",
       "      <td>0</td>\n",
       "      <td>0</td>\n",
       "      <td>0</td>\n",
       "      <td>0</td>\n",
       "      <td>0</td>\n",
       "      <td>0</td>\n",
       "      <td>0</td>\n",
       "      <td>0</td>\n",
       "      <td>0</td>\n",
       "      <td>0</td>\n",
       "      <td>0</td>\n",
       "      <td>0</td>\n",
       "      <td>0</td>\n",
       "      <td>0</td>\n",
       "      <td>0</td>\n",
       "      <td>0</td>\n",
       "      <td>1</td>\n",
       "      <td>0</td>\n",
       "      <td>0</td>\n",
       "      <td>0</td>\n",
       "      <td>0</td>\n",
       "      <td>0</td>\n",
       "      <td>0</td>\n",
       "    </tr>\n",
       "    <tr>\n",
       "      <th>1</th>\n",
       "      <td>0</td>\n",
       "      <td>0</td>\n",
       "      <td>0</td>\n",
       "      <td>0</td>\n",
       "      <td>0</td>\n",
       "      <td>0</td>\n",
       "      <td>0</td>\n",
       "      <td>0</td>\n",
       "      <td>0</td>\n",
       "      <td>0</td>\n",
       "      <td>0</td>\n",
       "      <td>0</td>\n",
       "      <td>0</td>\n",
       "      <td>0</td>\n",
       "      <td>0</td>\n",
       "      <td>0</td>\n",
       "      <td>0</td>\n",
       "      <td>0</td>\n",
       "      <td>0</td>\n",
       "      <td>0</td>\n",
       "      <td>0</td>\n",
       "      <td>0</td>\n",
       "      <td>0</td>\n",
       "      <td>0</td>\n",
       "      <td>0</td>\n",
       "      <td>0</td>\n",
       "      <td>1</td>\n",
       "      <td>0</td>\n",
       "    </tr>\n",
       "    <tr>\n",
       "      <th>2</th>\n",
       "      <td>0</td>\n",
       "      <td>0</td>\n",
       "      <td>0</td>\n",
       "      <td>0</td>\n",
       "      <td>0</td>\n",
       "      <td>0</td>\n",
       "      <td>0</td>\n",
       "      <td>0</td>\n",
       "      <td>0</td>\n",
       "      <td>0</td>\n",
       "      <td>0</td>\n",
       "      <td>0</td>\n",
       "      <td>0</td>\n",
       "      <td>0</td>\n",
       "      <td>1</td>\n",
       "      <td>0</td>\n",
       "      <td>0</td>\n",
       "      <td>0</td>\n",
       "      <td>0</td>\n",
       "      <td>0</td>\n",
       "      <td>0</td>\n",
       "      <td>0</td>\n",
       "      <td>0</td>\n",
       "      <td>0</td>\n",
       "      <td>0</td>\n",
       "      <td>0</td>\n",
       "      <td>0</td>\n",
       "      <td>0</td>\n",
       "    </tr>\n",
       "    <tr>\n",
       "      <th>3</th>\n",
       "      <td>0</td>\n",
       "      <td>0</td>\n",
       "      <td>0</td>\n",
       "      <td>0</td>\n",
       "      <td>0</td>\n",
       "      <td>1</td>\n",
       "      <td>0</td>\n",
       "      <td>0</td>\n",
       "      <td>0</td>\n",
       "      <td>0</td>\n",
       "      <td>0</td>\n",
       "      <td>0</td>\n",
       "      <td>0</td>\n",
       "      <td>0</td>\n",
       "      <td>0</td>\n",
       "      <td>0</td>\n",
       "      <td>0</td>\n",
       "      <td>0</td>\n",
       "      <td>0</td>\n",
       "      <td>0</td>\n",
       "      <td>0</td>\n",
       "      <td>0</td>\n",
       "      <td>0</td>\n",
       "      <td>0</td>\n",
       "      <td>0</td>\n",
       "      <td>0</td>\n",
       "      <td>0</td>\n",
       "      <td>0</td>\n",
       "    </tr>\n",
       "    <tr>\n",
       "      <th>4</th>\n",
       "      <td>0</td>\n",
       "      <td>0</td>\n",
       "      <td>0</td>\n",
       "      <td>0</td>\n",
       "      <td>0</td>\n",
       "      <td>0</td>\n",
       "      <td>0</td>\n",
       "      <td>0</td>\n",
       "      <td>0</td>\n",
       "      <td>0</td>\n",
       "      <td>0</td>\n",
       "      <td>0</td>\n",
       "      <td>0</td>\n",
       "      <td>0</td>\n",
       "      <td>0</td>\n",
       "      <td>0</td>\n",
       "      <td>0</td>\n",
       "      <td>0</td>\n",
       "      <td>0</td>\n",
       "      <td>1</td>\n",
       "      <td>0</td>\n",
       "      <td>0</td>\n",
       "      <td>0</td>\n",
       "      <td>0</td>\n",
       "      <td>0</td>\n",
       "      <td>0</td>\n",
       "      <td>0</td>\n",
       "      <td>0</td>\n",
       "    </tr>\n",
       "  </tbody>\n",
       "</table>\n",
       "</div>"
      ],
      "text/plain": [
       "   CAM  CB  CDM  CF  CM  GK  LAM  LB  ...  RDM  RF  RM  RS  RW  RWB  ST  NaN\n",
       "0    0   0    0   0   0   0    0   0  ...    0   1   0   0   0    0   0    0\n",
       "1    0   0    0   0   0   0    0   0  ...    0   0   0   0   0    0   1    0\n",
       "2    0   0    0   0   0   0    0   0  ...    0   0   0   0   0    0   0    0\n",
       "3    0   0    0   0   0   1    0   0  ...    0   0   0   0   0    0   0    0\n",
       "4    0   0    0   0   0   0    0   0  ...    0   0   0   0   0    0   0    0\n",
       "\n",
       "[5 rows x 28 columns]"
      ]
     },
     "execution_count": 105,
     "metadata": {
      "tags": []
     },
     "output_type": "execute_result"
    }
   ],
   "source": [
    "pd.get_dummies(df['Position'], dummy_na=True).head()"
   ]
  },
  {
   "cell_type": "markdown",
   "metadata": {
    "colab_type": "text",
    "id": "a-Xr35PBuRO3"
   },
   "source": [
    "## 3. Масштабирование данных"
   ]
  },
  {
   "cell_type": "markdown",
   "metadata": {
    "colab_type": "text",
    "id": "AsqmWBKeuT9N"
   },
   "source": [
    "### 3.1 MinMax масштабирование"
   ]
  },
  {
   "cell_type": "code",
   "execution_count": 106,
   "metadata": {
    "colab": {
     "base_uri": "https://localhost:8080/",
     "height": 285
    },
    "colab_type": "code",
    "id": "qXP6Z5ZWuQ9f",
    "outputId": "906b4820-5ad1-4e4c-f2eb-72900815231c"
   },
   "outputs": [
    {
     "data": {
      "text/plain": [
       "<matplotlib.axes._subplots.AxesSubplot at 0x7f7719a109b0>"
      ]
     },
     "execution_count": 106,
     "metadata": {
      "tags": []
     },
     "output_type": "execute_result"
    },
    {
     "data": {
      "image/png": "[encoded data removed]",
      "text/plain": [
       "<Figure size 432x288 with 1 Axes>"
      ]
     },
     "metadata": {
      "tags": []
     },
     "output_type": "display_data"
    }
   ],
   "source": [
    "df['Weak Foot'].plot.hist()"
   ]
  },
  {
   "cell_type": "code",
   "execution_count": 0,
   "metadata": {
    "colab": {},
    "colab_type": "code",
    "id": "7BElWJFruexe"
   },
   "outputs": [],
   "source": [
    "sc1 = MinMaxScaler()\n",
    "df['Weak Foot'] = sc1.fit_transform(df[['Weak Foot']])"
   ]
  },
  {
   "cell_type": "code",
   "execution_count": 109,
   "metadata": {
    "colab": {
     "base_uri": "https://localhost:8080/",
     "height": 285
    },
    "colab_type": "code",
    "id": "IR133qb1unTa",
    "outputId": "6d6c95c5-6c7c-4c74-c804-d98b91570994"
   },
   "outputs": [
    {
     "data": {
      "text/plain": [
       "<matplotlib.axes._subplots.AxesSubplot at 0x7f77182ddef0>"
      ]
     },
     "execution_count": 109,
     "metadata": {
      "tags": []
     },
     "output_type": "execute_result"
    },
    {
     "data": {
      "image/png": "[encoded data removed]",
      "text/plain": [
       "<Figure size 432x288 with 1 Axes>"
      ]
     },
     "metadata": {
      "tags": []
     },
     "output_type": "display_data"
    }
   ],
   "source": [
    "df['Weak Foot'].plot.hist()"
   ]
  },
  {
   "cell_type": "markdown",
   "metadata": {
    "colab_type": "text",
    "id": "VGqcph32usCg"
   },
   "source": [
    "### 3.2 Масштабирование данных на основе Z-оценки"
   ]
  },
  {
   "cell_type": "code",
   "execution_count": 0,
   "metadata": {
    "colab": {},
    "colab_type": "code",
    "id": "pI-XEMeeu5Ke"
   },
   "outputs": [],
   "source": [
    "sc2 = StandardScaler()\n",
    "df['Weak Foot Z'] = sc2.fit_transform(df[['Weak Foot']])"
   ]
  },
  {
   "cell_type": "code",
   "execution_count": 113,
   "metadata": {
    "colab": {
     "base_uri": "https://localhost:8080/",
     "height": 285
    },
    "colab_type": "code",
    "id": "5jPAKfafvAXU",
    "outputId": "3a7fd7f3-8b01-4124-c98f-865c34921888"
   },
   "outputs": [
    {
     "data": {
      "text/plain": [
       "<matplotlib.axes._subplots.AxesSubplot at 0x7f771935a128>"
      ]
     },
     "execution_count": 113,
     "metadata": {
      "tags": []
     },
     "output_type": "execute_result"
    },
    {
     "data": {
      "image/png": "[encoded data removed]",
      "text/plain": [
       "<Figure size 432x288 with 1 Axes>"
      ]
     },
     "metadata": {
      "tags": []
     },
     "output_type": "display_data"
    }
   ],
   "source": [
    "df['Weak Foot Z'].plot.hist()"
   ]
  },
  {
   "cell_type": "markdown",
   "metadata": {
    "colab_type": "text",
    "id": "QRzlyiwEvFSs"
   },
   "source": [
    "### 3.3 Нормализация данных"
   ]
  },
  {
   "cell_type": "code",
   "execution_count": 0,
   "metadata": {
    "colab": {},
    "colab_type": "code",
    "id": "oPGYooIvvKKI"
   },
   "outputs": [],
   "source": [
    "sc3 = Normalizer()\n",
    "df['Weak Foot Norm'] = sc3.fit_transform(df[['Weak Foot Z']])"
   ]
  },
  {
   "cell_type": "code",
   "execution_count": 115,
   "metadata": {
    "colab": {
     "base_uri": "https://localhost:8080/",
     "height": 285
    },
    "colab_type": "code",
    "id": "Q5wTQ5XtvMFl",
    "outputId": "dfb85748-accf-4f2a-c736-e6c9320b124e"
   },
   "outputs": [
    {
     "data": {
      "text/plain": [
       "<matplotlib.axes._subplots.AxesSubplot at 0x7f771866e5f8>"
      ]
     },
     "execution_count": 115,
     "metadata": {
      "tags": []
     },
     "output_type": "execute_result"
    },
    {
     "data": {
      "image/png": "[encoded data removed]",
      "text/plain": [
       "<Figure size 432x288 with 1 Axes>"
      ]
     },
     "metadata": {
      "tags": []
     },
     "output_type": "display_data"
    }
   ],
   "source": [
    "df['Weak Foot Norm'].plot.hist()"
   ]
  }
 ],
 "metadata": {
  "colab": {
   "collapsed_sections": [],
   "name": "lab3.ipynb",
   "provenance": []
  },
  "kernelspec": {
   "display_name": "Python 3",
   "language": "python",
   "name": "python3"
  },
  "language_info": {
   "codemirror_mode": {
    "name": "ipython",
    "version": 3
   },
   "file_extension": ".py",
   "mimetype": "text/x-python",
   "name": "python",
   "nbconvert_exporter": "python",
   "pygments_lexer": "ipython3",
   "version": "3.7.7"
  }
 },
 "nbformat": 4,
 "nbformat_minor": 1
}
