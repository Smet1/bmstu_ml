{
  "nbformat": 4,
  "nbformat_minor": 0,
  "metadata": {
    "colab": {
      "name": "lab4_MMO.ipynb",
      "provenance": [],
      "collapsed_sections": []
    },
    "kernelspec": {
      "name": "python3",
      "display_name": "Python 3"
    }
  },
  "cells": [
    {
      "cell_type": "markdown",
      "metadata": {
        "id": "BA65PDdw4-TS",
        "colab_type": "text"
      },
      "source": [
        "# Задание\n",
        "1. Выберите набор данных (датасет) для решения задачи классификации или регресии.\n",
        "2. В случае необходимости проведите удаление или заполнение пропусков и кодирование категориальных признаков.\n",
        "3. С использованием метода train_test_split разделите выборку на обучающую и тестовую.\n",
        "4. Обучите модель ближайших соседей для произвольно заданного гиперпараметра K. Оцените качество модели с помощью трех подходящих для задачи метрик.\n",
        "5. Постройте модель и оцените качество модели с использованием кросс-валидации. Проведите эксперименты с тремя различными стратегиями кросс-валидации.\n",
        "6. Произведите подбор гиперпараметра K с использованием GridSearchCV и кросс-валидации.\n",
        "7. Повторите пункт 4 для найденного оптимального значения гиперпараметра K. Сравните качество полученной модели с качеством модели, полученной в пункте 4.\n",
        "8. Постройте кривые обучения и валидации."
      ]
    },
    {
      "cell_type": "code",
      "metadata": {
        "id": "ZsMMaoUUdt0c",
        "colab_type": "code",
        "colab": {}
      },
      "source": [
        "import pandas as pd\n",
        "import numpy as np\n",
        "import seaborn as sns\n",
        "from sklearn.impute import SimpleImputer\n",
        "from sklearn.preprocessing import LabelEncoder, OneHotEncoder\n",
        "from sklearn.preprocessing import MinMaxScaler, StandardScaler, Normalizer\n",
        "\n",
        "%matplotlib inline \n",
        "sns.set(style=\"ticks\")"
      ],
      "execution_count": 0,
      "outputs": []
    },
    {
      "cell_type": "code",
      "metadata": {
        "id": "NuK0ccaYd0-9",
        "colab_type": "code",
        "colab": {}
      },
      "source": [
        "url = 'https://raw.githubusercontent.com/Smet1/bmstu_ml/master/lab4/data.csv'\n",
        "df = pd.read_csv(url, error_bad_lines=False)"
      ],
      "execution_count": 0,
      "outputs": []
    },
    {
      "cell_type": "code",
      "metadata": {
        "id": "CO5lgYsReV9p",
        "colab_type": "code",
        "outputId": "30299dac-28c3-4ee5-eb79-14b527dbf687",
        "colab": {
          "base_uri": "https://localhost:8080/",
          "height": 204
        }
      },
      "source": [
        "df.head()"
      ],
      "execution_count": 543,
      "outputs": [
        {
          "output_type": "execute_result",
          "data": {
            "text/html": [
              "<div>\n",
              "<style scoped>\n",
              "    .dataframe tbody tr th:only-of-type {\n",
              "        vertical-align: middle;\n",
              "    }\n",
              "\n",
              "    .dataframe tbody tr th {\n",
              "        vertical-align: top;\n",
              "    }\n",
              "\n",
              "    .dataframe thead th {\n",
              "        text-align: right;\n",
              "    }\n",
              "</style>\n",
              "<table border=\"1\" class=\"dataframe\">\n",
              "  <thead>\n",
              "    <tr style=\"text-align: right;\">\n",
              "      <th></th>\n",
              "      <th>date</th>\n",
              "      <th>price</th>\n",
              "      <th>bedrooms</th>\n",
              "      <th>bathrooms</th>\n",
              "      <th>sqft_living</th>\n",
              "      <th>sqft_lot</th>\n",
              "      <th>floors</th>\n",
              "      <th>waterfront</th>\n",
              "      <th>view</th>\n",
              "      <th>condition</th>\n",
              "      <th>sqft_above</th>\n",
              "      <th>sqft_basement</th>\n",
              "      <th>yr_built</th>\n",
              "      <th>yr_renovated</th>\n",
              "      <th>street</th>\n",
              "      <th>city</th>\n",
              "      <th>statezip</th>\n",
              "      <th>country</th>\n",
              "    </tr>\n",
              "  </thead>\n",
              "  <tbody>\n",
              "    <tr>\n",
              "      <th>0</th>\n",
              "      <td>2014-05-02 00:00:00</td>\n",
              "      <td>313000.0</td>\n",
              "      <td>3.0</td>\n",
              "      <td>1.50</td>\n",
              "      <td>1340</td>\n",
              "      <td>7912</td>\n",
              "      <td>1.5</td>\n",
              "      <td>0</td>\n",
              "      <td>0</td>\n",
              "      <td>3</td>\n",
              "      <td>1340</td>\n",
              "      <td>0</td>\n",
              "      <td>1955</td>\n",
              "      <td>2005</td>\n",
              "      <td>18810 Densmore Ave N</td>\n",
              "      <td>Shoreline</td>\n",
              "      <td>WA 98133</td>\n",
              "      <td>USA</td>\n",
              "    </tr>\n",
              "    <tr>\n",
              "      <th>1</th>\n",
              "      <td>2014-05-02 00:00:00</td>\n",
              "      <td>2384000.0</td>\n",
              "      <td>5.0</td>\n",
              "      <td>2.50</td>\n",
              "      <td>3650</td>\n",
              "      <td>9050</td>\n",
              "      <td>2.0</td>\n",
              "      <td>0</td>\n",
              "      <td>4</td>\n",
              "      <td>5</td>\n",
              "      <td>3370</td>\n",
              "      <td>280</td>\n",
              "      <td>1921</td>\n",
              "      <td>0</td>\n",
              "      <td>709 W Blaine St</td>\n",
              "      <td>Seattle</td>\n",
              "      <td>WA 98119</td>\n",
              "      <td>USA</td>\n",
              "    </tr>\n",
              "    <tr>\n",
              "      <th>2</th>\n",
              "      <td>2014-05-02 00:00:00</td>\n",
              "      <td>342000.0</td>\n",
              "      <td>3.0</td>\n",
              "      <td>2.00</td>\n",
              "      <td>1930</td>\n",
              "      <td>11947</td>\n",
              "      <td>1.0</td>\n",
              "      <td>0</td>\n",
              "      <td>0</td>\n",
              "      <td>4</td>\n",
              "      <td>1930</td>\n",
              "      <td>0</td>\n",
              "      <td>1966</td>\n",
              "      <td>0</td>\n",
              "      <td>26206-26214 143rd Ave SE</td>\n",
              "      <td>Kent</td>\n",
              "      <td>WA 98042</td>\n",
              "      <td>USA</td>\n",
              "    </tr>\n",
              "    <tr>\n",
              "      <th>3</th>\n",
              "      <td>2014-05-02 00:00:00</td>\n",
              "      <td>420000.0</td>\n",
              "      <td>3.0</td>\n",
              "      <td>2.25</td>\n",
              "      <td>2000</td>\n",
              "      <td>8030</td>\n",
              "      <td>1.0</td>\n",
              "      <td>0</td>\n",
              "      <td>0</td>\n",
              "      <td>4</td>\n",
              "      <td>1000</td>\n",
              "      <td>1000</td>\n",
              "      <td>1963</td>\n",
              "      <td>0</td>\n",
              "      <td>857 170th Pl NE</td>\n",
              "      <td>Bellevue</td>\n",
              "      <td>WA 98008</td>\n",
              "      <td>USA</td>\n",
              "    </tr>\n",
              "    <tr>\n",
              "      <th>4</th>\n",
              "      <td>2014-05-02 00:00:00</td>\n",
              "      <td>550000.0</td>\n",
              "      <td>4.0</td>\n",
              "      <td>2.50</td>\n",
              "      <td>1940</td>\n",
              "      <td>10500</td>\n",
              "      <td>1.0</td>\n",
              "      <td>0</td>\n",
              "      <td>0</td>\n",
              "      <td>4</td>\n",
              "      <td>1140</td>\n",
              "      <td>800</td>\n",
              "      <td>1976</td>\n",
              "      <td>1992</td>\n",
              "      <td>9105 170th Ave NE</td>\n",
              "      <td>Redmond</td>\n",
              "      <td>WA 98052</td>\n",
              "      <td>USA</td>\n",
              "    </tr>\n",
              "  </tbody>\n",
              "</table>\n",
              "</div>"
            ],
            "text/plain": [
              "                  date      price  bedrooms  ...       city  statezip  country\n",
              "0  2014-05-02 00:00:00   313000.0       3.0  ...  Shoreline  WA 98133      USA\n",
              "1  2014-05-02 00:00:00  2384000.0       5.0  ...    Seattle  WA 98119      USA\n",
              "2  2014-05-02 00:00:00   342000.0       3.0  ...       Kent  WA 98042      USA\n",
              "3  2014-05-02 00:00:00   420000.0       3.0  ...   Bellevue  WA 98008      USA\n",
              "4  2014-05-02 00:00:00   550000.0       4.0  ...    Redmond  WA 98052      USA\n",
              "\n",
              "[5 rows x 18 columns]"
            ]
          },
          "metadata": {
            "tags": []
          },
          "execution_count": 543
        }
      ]
    },
    {
      "cell_type": "code",
      "metadata": {
        "id": "_D7rJPfKehdU",
        "colab_type": "code",
        "outputId": "ad51198d-f87c-4bad-e088-ead9dbece507",
        "colab": {
          "base_uri": "https://localhost:8080/",
          "height": 34
        }
      },
      "source": [
        "row_number = df.shape[0]\n",
        "column_number = df.shape[1]\n",
        "\n",
        "print('Данный датасет содержит {} строк и {} столбца.'.format(row_number, column_number))"
      ],
      "execution_count": 544,
      "outputs": [
        {
          "output_type": "stream",
          "text": [
            "Данный датасет содержит 4600 строк и 18 столбца.\n"
          ],
          "name": "stdout"
        }
      ]
    },
    {
      "cell_type": "markdown",
      "metadata": {
        "id": "HeCFoZiDeqEv",
        "colab_type": "text"
      },
      "source": [
        "## Обработка пропусков в данных"
      ]
    },
    {
      "cell_type": "code",
      "metadata": {
        "id": "VJxrNRKJesl8",
        "colab_type": "code",
        "colab": {}
      },
      "source": [
        "for col in df.columns:\n",
        "    null_count = df[df[col].isnull()].shape[0]\n",
        "    if null_count > 0:\n",
        "        column_type = df[col].dtype\n",
        "        percent = round((null_count / row_number) * 100, 3)\n",
        "        print('{} - {} - {}. Тип - {}'.format(col, null_count, percent, column_type))"
      ],
      "execution_count": 0,
      "outputs": []
    },
    {
      "cell_type": "code",
      "metadata": {
        "id": "cyGOhEl05-mb",
        "colab_type": "code",
        "colab": {
          "base_uri": "https://localhost:8080/",
          "height": 323
        },
        "outputId": "5b878924-b8a1-4e6b-f311-0437e14c4e91"
      },
      "source": [
        "for col in df.columns:\n",
        "    column_type = df[col].dtype\n",
        "    print('{} - тип: {}'.format(col, column_type))"
      ],
      "execution_count": 546,
      "outputs": [
        {
          "output_type": "stream",
          "text": [
            "date - тип: object\n",
            "price - тип: float64\n",
            "bedrooms - тип: float64\n",
            "bathrooms - тип: float64\n",
            "sqft_living - тип: int64\n",
            "sqft_lot - тип: int64\n",
            "floors - тип: float64\n",
            "waterfront - тип: int64\n",
            "view - тип: int64\n",
            "condition - тип: int64\n",
            "sqft_above - тип: int64\n",
            "sqft_basement - тип: int64\n",
            "yr_built - тип: int64\n",
            "yr_renovated - тип: int64\n",
            "street - тип: object\n",
            "city - тип: object\n",
            "statezip - тип: object\n",
            "country - тип: object\n"
          ],
          "name": "stdout"
        }
      ]
    },
    {
      "cell_type": "markdown",
      "metadata": {
        "id": "yZcd3wjy8VFd",
        "colab_type": "text"
      },
      "source": [
        "Удаление или заполнение пропусков, не требуется, так как в датасете отсутствуют пустые значения"
      ]
    },
    {
      "cell_type": "markdown",
      "metadata": {
        "id": "3-cwtJzH6SVm",
        "colab_type": "text"
      },
      "source": [
        "## Кодирование категориальных признаков"
      ]
    },
    {
      "cell_type": "code",
      "metadata": {
        "id": "gmeU3Krn6WT3",
        "colab_type": "code",
        "colab": {
          "base_uri": "https://localhost:8080/",
          "height": 102
        },
        "outputId": "c9420a25-11dd-40aa-fbe5-9da2d9102585"
      },
      "source": [
        "for col in df.columns:\n",
        "    column_type = df[col].dtype\n",
        "    if column_type == 'object':\n",
        "        print(col)"
      ],
      "execution_count": 547,
      "outputs": [
        {
          "output_type": "stream",
          "text": [
            "date\n",
            "street\n",
            "city\n",
            "statezip\n",
            "country\n"
          ],
          "name": "stdout"
        }
      ]
    },
    {
      "cell_type": "code",
      "metadata": {
        "id": "9PlQI13s6i9s",
        "colab_type": "code",
        "colab": {
          "base_uri": "https://localhost:8080/",
          "height": 102
        },
        "outputId": "572e9717-0a64-4771-8b22-e2372ab0b191"
      },
      "source": [
        "print(len(df['date'].unique()))\n",
        "print(len(df['street'].unique()))\n",
        "print(len(df['city'].unique()))\n",
        "print(len(df['statezip'].unique()))\n",
        "print(len(df['country'].unique()))"
      ],
      "execution_count": 548,
      "outputs": [
        {
          "output_type": "stream",
          "text": [
            "70\n",
            "4525\n",
            "44\n",
            "77\n",
            "1\n"
          ],
          "name": "stdout"
        }
      ]
    },
    {
      "cell_type": "code",
      "metadata": {
        "id": "FkCByUp-6_wk",
        "colab_type": "code",
        "colab": {}
      },
      "source": [
        "# кодируем\n",
        "leDate = LabelEncoder()\n",
        "df['date'] = leDate.fit_transform(df['date'])\n",
        "\n",
        "leStreet = LabelEncoder()\n",
        "df['street'] = leStreet.fit_transform(df['street'])\n",
        "\n",
        "leCity = LabelEncoder()\n",
        "df['city'] = leCity.fit_transform(df['city'])\n",
        "\n",
        "leStatezip = LabelEncoder()\n",
        "df['statezip'] = leStatezip.fit_transform(df['statezip'])\n",
        "\n",
        "leCountry = LabelEncoder()\n",
        "df['country'] = leCountry.fit_transform(df['country'])"
      ],
      "execution_count": 0,
      "outputs": []
    },
    {
      "cell_type": "code",
      "metadata": {
        "id": "0gMJLQN28Dqq",
        "colab_type": "code",
        "colab": {}
      },
      "source": [
        "# проверяем остались ли признаки\n",
        "for col in df.columns:\n",
        "    column_type = df[col].dtype\n",
        "    if column_type == 'object':\n",
        "        print(col)"
      ],
      "execution_count": 0,
      "outputs": []
    },
    {
      "cell_type": "markdown",
      "metadata": {
        "id": "SAsUiyqs9ucQ",
        "colab_type": "text"
      },
      "source": [
        "## Разделение выборки на обучающую и тестовую"
      ]
    },
    {
      "cell_type": "code",
      "metadata": {
        "id": "XHqJKxMl-f1P",
        "colab_type": "code",
        "colab": {
          "base_uri": "https://localhost:8080/",
          "height": 34
        },
        "outputId": "5e6cf7e2-fd5b-4b76-cb30-7e784b627513"
      },
      "source": [
        "from sklearn.model_selection import train_test_split\n",
        "\n",
        "df.astype({'bedrooms': 'int64'}).dtypes\n",
        "\n",
        "print(len(df['bedrooms'].unique()))\n",
        "\n",
        "df_x = df.loc[:, df.columns != 'bedrooms']\n",
        "df_y = df['bedrooms']\n",
        "train_x_df, test_x_df, train_y_df, test_y_df = train_test_split(df_x, df_y, test_size=0.3, random_state=346705925)"
      ],
      "execution_count": 551,
      "outputs": [
        {
          "output_type": "stream",
          "text": [
            "10\n"
          ],
          "name": "stdout"
        }
      ]
    },
    {
      "cell_type": "code",
      "metadata": {
        "id": "U6lMTMSm-krR",
        "colab_type": "code",
        "colab": {
          "base_uri": "https://localhost:8080/",
          "height": 34
        },
        "outputId": "7440bab1-a6a7-4c6e-9587-74aba14c2d76"
      },
      "source": [
        "row_number = train_x_df.shape[0]\n",
        "column_number = train_x_df.shape[1]\n",
        "\n",
        "print('Тренировочный датасет содержит {} строк и {} столбцов.'.format(row_number, column_number))"
      ],
      "execution_count": 552,
      "outputs": [
        {
          "output_type": "stream",
          "text": [
            "Тренировочный датасет содержит 3220 строк и 17 столбцов.\n"
          ],
          "name": "stdout"
        }
      ]
    },
    {
      "cell_type": "code",
      "metadata": {
        "id": "KUVNRu0b-nJw",
        "colab_type": "code",
        "colab": {
          "base_uri": "https://localhost:8080/",
          "height": 34
        },
        "outputId": "cd420997-9681-41ad-db24-6b3a39efa2ab"
      },
      "source": [
        "row_number = test_x_df.shape[0]\n",
        "column_number = test_x_df.shape[1]\n",
        "\n",
        "print('Тестовый датасет содержит {} строк и {} столбцов.'.format(row_number, column_number))"
      ],
      "execution_count": 553,
      "outputs": [
        {
          "output_type": "stream",
          "text": [
            "Тестовый датасет содержит 1380 строк и 17 столбцов.\n"
          ],
          "name": "stdout"
        }
      ]
    },
    {
      "cell_type": "markdown",
      "metadata": {
        "id": "sEaipEdV-2a_",
        "colab_type": "text"
      },
      "source": [
        "## Обучение модели с произвольным гиперпараметром"
      ]
    },
    {
      "cell_type": "code",
      "metadata": {
        "id": "RY-M2Zso-2Ed",
        "colab_type": "code",
        "colab": {}
      },
      "source": [
        "from sklearn.neighbors import KNeighborsClassifier\n",
        "\n",
        "# 2 ближайших соседа\n",
        "cl_2 = KNeighborsClassifier(n_neighbors=2)\n",
        "cl_2.fit(train_x_df, train_y_df)\n",
        "\n",
        "target_2 = cl_2.predict(test_x_df)"
      ],
      "execution_count": 0,
      "outputs": []
    },
    {
      "cell_type": "markdown",
      "metadata": {
        "id": "NEJGbB7KBkd-",
        "colab_type": "text"
      },
      "source": [
        "## Оценка качества модели"
      ]
    },
    {
      "cell_type": "code",
      "metadata": {
        "id": "u7YHoZg8BnAB",
        "colab_type": "code",
        "colab": {}
      },
      "source": [
        "from sklearn.metrics import accuracy_score, confusion_matrix, plot_confusion_matrix, balanced_accuracy_score"
      ],
      "execution_count": 0,
      "outputs": []
    },
    {
      "cell_type": "markdown",
      "metadata": {
        "id": "wbmH6ECzBwQp",
        "colab_type": "text"
      },
      "source": [
        "### Accuracy"
      ]
    },
    {
      "cell_type": "code",
      "metadata": {
        "id": "63c_envxByHN",
        "colab_type": "code",
        "colab": {
          "base_uri": "https://localhost:8080/",
          "height": 34
        },
        "outputId": "6f76d47f-36ea-42eb-d5f3-175bbe5d6c9e"
      },
      "source": [
        "balanced_accuracy_score(test_y_df, target_2)"
      ],
      "execution_count": 556,
      "outputs": [
        {
          "output_type": "execute_result",
          "data": {
            "text/plain": [
              "0.1460053246722267"
            ]
          },
          "metadata": {
            "tags": []
          },
          "execution_count": 556
        }
      ]
    },
    {
      "cell_type": "markdown",
      "metadata": {
        "id": "trMo88q3BzJi",
        "colab_type": "text"
      },
      "source": [
        "### Матрица ошибок"
      ]
    },
    {
      "cell_type": "code",
      "metadata": {
        "id": "jCSF5mBLB34U",
        "colab_type": "code",
        "colab": {
          "base_uri": "https://localhost:8080/",
          "height": 306
        },
        "outputId": "28e96ff5-0246-408b-feb7-9ce048ae6bf0"
      },
      "source": [
        "import matplotlib.pyplot as plt\n",
        "\n",
        "plot_confusion_matrix(cl_2, test_x_df, test_y_df, cmap=plt.cm.Blues, normalize='true')"
      ],
      "execution_count": 557,
      "outputs": [
        {
          "output_type": "execute_result",
          "data": {
            "text/plain": [
              "<sklearn.metrics._plot.confusion_matrix.ConfusionMatrixDisplay at 0x7f8084ca0e80>"
            ]
          },
          "metadata": {
            "tags": []
          },
          "execution_count": 557
        },
        {
          "output_type": "display_data",
          "data": {
            "image/png": "[encoded data removed]",
            "text/plain": [
              "<Figure size 432x288 with 2 Axes>"
            ]
          },
          "metadata": {
            "tags": []
          }
        }
      ]
    },
    {
      "cell_type": "markdown",
      "metadata": {
        "id": "wjV0Q5OGDmNC",
        "colab_type": "text"
      },
      "source": [
        "## Кросс-валидация"
      ]
    },
    {
      "cell_type": "code",
      "metadata": {
        "id": "F290M3jeDoqr",
        "colab_type": "code",
        "colab": {
          "base_uri": "https://localhost:8080/",
          "height": 34
        },
        "outputId": "8fa05756-2f57-4af7-f39d-a0dba9c8b336"
      },
      "source": [
        "from sklearn.model_selection import KFold, RepeatedKFold, ShuffleSplit, cross_val_score\n",
        "\n",
        "\n",
        "kf = KFold(n_splits=5)\n",
        "scores = cross_val_score(KNeighborsClassifier(n_neighbors=5), df_x, df_y, scoring='accuracy', cv=kf)\n",
        "\n",
        "round(scores.mean(), 2)"
      ],
      "execution_count": 558,
      "outputs": [
        {
          "output_type": "execute_result",
          "data": {
            "text/plain": [
              "0.45"
            ]
          },
          "metadata": {
            "tags": []
          },
          "execution_count": 558
        }
      ]
    },
    {
      "cell_type": "code",
      "metadata": {
        "id": "Ep8tLD0wDzsd",
        "colab_type": "code",
        "colab": {
          "base_uri": "https://localhost:8080/",
          "height": 34
        },
        "outputId": "903d8149-8291-46f7-be24-831faae08581"
      },
      "source": [
        "kf = RepeatedKFold(n_splits=3, n_repeats=2)\n",
        "scores = cross_val_score(KNeighborsClassifier(n_neighbors=5), df_x, df_y, scoring='accuracy', cv=kf)\n",
        "\n",
        "round(scores.mean(), 2)"
      ],
      "execution_count": 559,
      "outputs": [
        {
          "output_type": "execute_result",
          "data": {
            "text/plain": [
              "0.45"
            ]
          },
          "metadata": {
            "tags": []
          },
          "execution_count": 559
        }
      ]
    },
    {
      "cell_type": "code",
      "metadata": {
        "id": "oMtteNikD62i",
        "colab_type": "code",
        "colab": {
          "base_uri": "https://localhost:8080/",
          "height": 34
        },
        "outputId": "4675e0cc-3454-4dc7-a262-f88cdb5a117a"
      },
      "source": [
        "kf = ShuffleSplit(n_splits=5, test_size=0.25)\n",
        "scores = cross_val_score(KNeighborsClassifier(n_neighbors=5), df_x, df_y, scoring='accuracy', cv=kf)\n",
        "\n",
        "round(scores.mean(), 2)"
      ],
      "execution_count": 560,
      "outputs": [
        {
          "output_type": "execute_result",
          "data": {
            "text/plain": [
              "0.45"
            ]
          },
          "metadata": {
            "tags": []
          },
          "execution_count": 560
        }
      ]
    },
    {
      "cell_type": "markdown",
      "metadata": {
        "id": "mHT2TT-5FIFz",
        "colab_type": "text"
      },
      "source": [
        "## Подбор гиперпараметра"
      ]
    },
    {
      "cell_type": "code",
      "metadata": {
        "id": "alBDs72mFLzF",
        "colab_type": "code",
        "colab": {}
      },
      "source": [
        "import numpy as np\n",
        "\n",
        "n_range = np.array(range(1, 50, 2))\n",
        "tuned_parameters = [{'n_neighbors': n_range}]"
      ],
      "execution_count": 0,
      "outputs": []
    },
    {
      "cell_type": "code",
      "metadata": {
        "id": "hYukK_0mFReO",
        "colab_type": "code",
        "colab": {
          "base_uri": "https://localhost:8080/",
          "height": 221
        },
        "outputId": "9af3b634-c658-4cca-ef40-c5d5e3d30130"
      },
      "source": [
        "from sklearn.model_selection import GridSearchCV\n",
        "\n",
        "clf_gs = GridSearchCV(KNeighborsClassifier(), tuned_parameters, cv=RepeatedKFold(n_splits=3, n_repeats=2), scoring='accuracy')\n",
        "clf_gs.fit(train_x_df, train_y_df)"
      ],
      "execution_count": 562,
      "outputs": [
        {
          "output_type": "execute_result",
          "data": {
            "text/plain": [
              "GridSearchCV(cv=RepeatedKFold(n_repeats=2, n_splits=3, random_state=None),\n",
              "             error_score=nan,\n",
              "             estimator=KNeighborsClassifier(algorithm='auto', leaf_size=30,\n",
              "                                            metric='minkowski',\n",
              "                                            metric_params=None, n_jobs=None,\n",
              "                                            n_neighbors=5, p=2,\n",
              "                                            weights='uniform'),\n",
              "             iid='deprecated', n_jobs=None,\n",
              "             param_grid=[{'n_neighbors': array([ 1,  3,  5,  7,  9, 11, 13, 15, 17, 19, 21, 23, 25, 27, 29, 31, 33,\n",
              "       35, 37, 39, 41, 43, 45, 47, 49])}],\n",
              "             pre_dispatch='2*n_jobs', refit=True, return_train_score=False,\n",
              "             scoring='accuracy', verbose=0)"
            ]
          },
          "metadata": {
            "tags": []
          },
          "execution_count": 562
        }
      ]
    },
    {
      "cell_type": "code",
      "metadata": {
        "id": "gh4k-v_JFsJK",
        "colab_type": "code",
        "colab": {
          "base_uri": "https://localhost:8080/",
          "height": 34
        },
        "outputId": "0a740305-0781-4c93-c056-b072a160c181"
      },
      "source": [
        "print('Наилучшее значение параметра k - {}'.format(clf_gs.best_params_['n_neighbors']))"
      ],
      "execution_count": 563,
      "outputs": [
        {
          "output_type": "stream",
          "text": [
            "Наилучшее значение параметра k - 41\n"
          ],
          "name": "stdout"
        }
      ]
    },
    {
      "cell_type": "code",
      "metadata": {
        "id": "WlnOlOFtFtpR",
        "colab_type": "code",
        "colab": {
          "base_uri": "https://localhost:8080/",
          "height": 271
        },
        "outputId": "e2f58514-d488-4bcd-a5a6-cae6ecaf7cb3"
      },
      "source": [
        "plt.plot(n_range, clf_gs.cv_results_[\"mean_test_score\"]);"
      ],
      "execution_count": 564,
      "outputs": [
        {
          "output_type": "display_data",
          "data": {
            "image/png": "[encoded data removed]",
            "text/plain": [
              "<Figure size 432x288 with 1 Axes>"
            ]
          },
          "metadata": {
            "tags": []
          }
        }
      ]
    },
    {
      "cell_type": "markdown",
      "metadata": {
        "id": "s2WFywlEGJcd",
        "colab_type": "text"
      },
      "source": [
        "## Обучение модели при оптимальном параметре"
      ]
    },
    {
      "cell_type": "code",
      "metadata": {
        "id": "KWH1UcE6GL9J",
        "colab_type": "code",
        "colab": {}
      },
      "source": [
        "clf_gs.best_estimator_.fit(train_x_df, train_y_df)\n",
        "target_final = clf_gs.best_estimator_.predict(test_x_df)"
      ],
      "execution_count": 0,
      "outputs": []
    },
    {
      "cell_type": "code",
      "metadata": {
        "id": "x8JEkbyhGPs9",
        "colab_type": "code",
        "colab": {
          "base_uri": "https://localhost:8080/",
          "height": 51
        },
        "outputId": "c8a79b54-8d44-49c0-adb7-f982559a6eff"
      },
      "source": [
        "print('Точность при оптимальном параметре - {}'.format(round(accuracy_score(test_y_df, target_final), 2)))\n",
        "\n",
        "print('Точность при случайно выбранном параметре - {}'.format(round(balanced_accuracy_score(test_y_df, target_2), 2)))"
      ],
      "execution_count": 566,
      "outputs": [
        {
          "output_type": "stream",
          "text": [
            "Точность при оптимальном параметре - 0.48\n",
            "Точность при случайно выбранном параметре - 0.15\n"
          ],
          "name": "stdout"
        }
      ]
    },
    {
      "cell_type": "markdown",
      "metadata": {
        "id": "XWFR_DhnG8rK",
        "colab_type": "text"
      },
      "source": [
        "## Кривые обучения и валидации"
      ]
    },
    {
      "cell_type": "code",
      "metadata": {
        "id": "NU4rH1LCG8GL",
        "colab_type": "code",
        "colab": {}
      },
      "source": [
        "from sklearn.model_selection import learning_curve, validation_curve\n",
        "\n",
        "# кривая обучения\n",
        "def plot_learning_curve(estimator, title, X, y, ylim=None, cv=None):\n",
        "    train_sizes=np.linspace(.1, 1.0, 5)\n",
        "\n",
        "    plt.figure()\n",
        "    plt.title(title)\n",
        "    if ylim is not None:\n",
        "        plt.ylim(*ylim)\n",
        "    plt.xlabel(\"Training examples\")\n",
        "    plt.ylabel(\"Score\")\n",
        "    train_sizes, train_scores, test_scores = learning_curve(\n",
        "        estimator, X, y, cv=cv, n_jobs=-1, train_sizes=train_sizes)\n",
        "    train_scores_mean = np.mean(train_scores, axis=1)\n",
        "    train_scores_std = np.std(train_scores, axis=1)\n",
        "    test_scores_mean = np.mean(test_scores, axis=1)\n",
        "    test_scores_std = np.std(test_scores, axis=1)\n",
        "    plt.grid()\n",
        "\n",
        "    plt.fill_between(train_sizes, train_scores_mean - train_scores_std,\n",
        "                     train_scores_mean + train_scores_std, alpha=0.1,\n",
        "                     color=\"r\")\n",
        "    plt.fill_between(train_sizes, test_scores_mean - test_scores_std,\n",
        "                     test_scores_mean + test_scores_std, alpha=0.1,\n",
        "                     color=\"g\")\n",
        "    plt.plot(train_sizes, train_scores_mean, 'o-', color=\"r\",\n",
        "             label=\"Training score\")\n",
        "    plt.plot(train_sizes, test_scores_mean, 'o-', color=\"g\",\n",
        "             label=\"Cross-validation score\")\n",
        "\n",
        "    plt.legend(loc=\"best\")\n",
        "    return plt"
      ],
      "execution_count": 0,
      "outputs": []
    },
    {
      "cell_type": "code",
      "metadata": {
        "id": "apEAh59hHExe",
        "colab_type": "code",
        "colab": {
          "base_uri": "https://localhost:8080/",
          "height": 352
        },
        "outputId": "3fbf2ffa-dd2f-4608-a26a-c625e0f80e58"
      },
      "source": [
        "plot_learning_curve(KNeighborsClassifier(n_neighbors=3), 'n_neighbors=3', train_x_df, train_y_df, cv=20)"
      ],
      "execution_count": 568,
      "outputs": [
        {
          "output_type": "stream",
          "text": [
            "/usr/local/lib/python3.6/dist-packages/sklearn/model_selection/_split.py:667: UserWarning: The least populated class in y has only 1 members, which is less than n_splits=20.\n",
            "  % (min_groups, self.n_splits)), UserWarning)\n"
          ],
          "name": "stderr"
        },
        {
          "output_type": "execute_result",
          "data": {
            "text/plain": [
              "<module 'matplotlib.pyplot' from '/usr/local/lib/python3.6/dist-packages/matplotlib/pyplot.py'>"
            ]
          },
          "metadata": {
            "tags": []
          },
          "execution_count": 568
        },
        {
          "output_type": "display_data",
          "data": {
            "image/png": "[encoded data removed]",
            "text/plain": [
              "<Figure size 432x288 with 1 Axes>"
            ]
          },
          "metadata": {
            "tags": []
          }
        }
      ]
    },
    {
      "cell_type": "code",
      "metadata": {
        "id": "Z81FkhgPHUr5",
        "colab_type": "code",
        "colab": {}
      },
      "source": [
        "# кривая валидации\n",
        "def plot_validation_curve(estimator, title, X, y, \n",
        "                          param_name, param_range, cv, \n",
        "                          scoring=\"accuracy\"):\n",
        "                                                   \n",
        "    train_scores, test_scores = validation_curve(\n",
        "        estimator, X, y, param_name=param_name,\n",
        "        param_range=param_range,\n",
        "        cv=cv, scoring=scoring, n_jobs=-1)\n",
        "    train_scores_mean = np.mean(train_scores, axis=1)\n",
        "    train_scores_std = np.std(train_scores, axis=1)\n",
        "    test_scores_mean = np.mean(test_scores, axis=1)\n",
        "    test_scores_std = np.std(test_scores, axis=1)\n",
        "\n",
        "    plt.title(title)\n",
        "    plt.xlabel(param_name)\n",
        "    plt.ylabel(\"Score\")\n",
        "    plt.ylim(0.0, 1.1)\n",
        "    lw = 2\n",
        "    plt.plot(param_range, train_scores_mean, label=\"Training score\",\n",
        "                 color=\"darkorange\", lw=lw)\n",
        "    plt.fill_between(param_range, train_scores_mean - train_scores_std,\n",
        "                     train_scores_mean + train_scores_std, alpha=0.2,\n",
        "                     color=\"darkorange\", lw=lw)\n",
        "    plt.plot(param_range, test_scores_mean,\n",
        "                 label=\"Cross-validation score\",\n",
        "                 color=\"navy\", lw=lw)\n",
        "    plt.fill_between(param_range, test_scores_mean - test_scores_std,\n",
        "                     test_scores_mean + test_scores_std, alpha=0.2,\n",
        "                     color=\"navy\", lw=lw)\n",
        "    plt.legend(loc=\"best\")\n",
        "    return plt"
      ],
      "execution_count": 0,
      "outputs": []
    },
    {
      "cell_type": "code",
      "metadata": {
        "id": "rAtYSiXGHXUD",
        "colab_type": "code",
        "colab": {
          "base_uri": "https://localhost:8080/",
          "height": 352
        },
        "outputId": "7a8d796c-c8e2-4dfa-e4f9-6465b90183e3"
      },
      "source": [
        "plot_validation_curve(KNeighborsClassifier(), 'knn', train_x_df, train_y_df, param_name='n_neighbors', param_range=n_range, cv=20, scoring=\"accuracy\")"
      ],
      "execution_count": 570,
      "outputs": [
        {
          "output_type": "stream",
          "text": [
            "/usr/local/lib/python3.6/dist-packages/sklearn/model_selection/_split.py:667: UserWarning: The least populated class in y has only 1 members, which is less than n_splits=20.\n",
            "  % (min_groups, self.n_splits)), UserWarning)\n"
          ],
          "name": "stderr"
        },
        {
          "output_type": "execute_result",
          "data": {
            "text/plain": [
              "<module 'matplotlib.pyplot' from '/usr/local/lib/python3.6/dist-packages/matplotlib/pyplot.py'>"
            ]
          },
          "metadata": {
            "tags": []
          },
          "execution_count": 570
        },
        {
          "output_type": "display_data",
          "data": {
            "image/png": "[encoded data removed]",
            "text/plain": [
              "<Figure size 432x288 with 1 Axes>"
            ]
          },
          "metadata": {
            "tags": []
          }
        }
      ]
    }
  ]
}